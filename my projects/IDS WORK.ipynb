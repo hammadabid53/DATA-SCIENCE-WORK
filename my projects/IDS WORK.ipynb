{
 "cells": [
  {
   "cell_type": "code",
   "execution_count": 1,
   "id": "1cead471",
   "metadata": {},
   "outputs": [],
   "source": [
    "import pandas as pd\n",
    "import matplotlib.pyplot as plt\n",
    "import seaborn as sns\n",
    "import numpy as np\n",
    "%matplotlib inline\n",
    "sns.set_style('darkgrid')"
   ]
  },
  {
   "cell_type": "code",
   "execution_count": 2,
   "id": "532599d3",
   "metadata": {},
   "outputs": [],
   "source": [
    "#Reading csv_file\n",
    "df = pd.read_csv(\"Pakistan Available Job Dec 19 - Mar-21.csv\")"
   ]
  },
  {
   "cell_type": "code",
   "execution_count": 3,
   "id": "5f7785c7",
   "metadata": {},
   "outputs": [
    {
     "data": {
      "text/html": [
       "<div>\n",
       "<style scoped>\n",
       "    .dataframe tbody tr th:only-of-type {\n",
       "        vertical-align: middle;\n",
       "    }\n",
       "\n",
       "    .dataframe tbody tr th {\n",
       "        vertical-align: top;\n",
       "    }\n",
       "\n",
       "    .dataframe thead th {\n",
       "        text-align: right;\n",
       "    }\n",
       "</style>\n",
       "<table border=\"1\" class=\"dataframe\">\n",
       "  <thead>\n",
       "    <tr style=\"text-align: right;\">\n",
       "      <th></th>\n",
       "      <th>Job Name</th>\n",
       "      <th>label</th>\n",
       "      <th>Company Name</th>\n",
       "      <th>Job Type</th>\n",
       "      <th>Experience Required</th>\n",
       "      <th>Department</th>\n",
       "      <th>JD</th>\n",
       "      <th>City</th>\n",
       "      <th>Date Posted</th>\n",
       "    </tr>\n",
       "  </thead>\n",
       "  <tbody>\n",
       "    <tr>\n",
       "      <th>0</th>\n",
       "      <td>Full Time New Job Positions .Net, .Netcore, Fl...</td>\n",
       "      <td>Premium Job</td>\n",
       "      <td>Nayel Solutions, Pakistan</td>\n",
       "      <td>Full Time Jobs</td>\n",
       "      <td>2 Years Job Exp.</td>\n",
       "      <td>IT Jobs</td>\n",
       "      <td>New Job Positions .net, .netcore, flutter, Tea...</td>\n",
       "      <td>Islamabad</td>\n",
       "      <td>12-Mar-21</td>\n",
       "    </tr>\n",
       "    <tr>\n",
       "      <th>1</th>\n",
       "      <td>Full Time Senior Web Developer Jobs in Pakistan</td>\n",
       "      <td>Premium Job</td>\n",
       "      <td>Eurosoft Tech Private Limited, Pakistan</td>\n",
       "      <td>Full Time Jobs</td>\n",
       "      <td>2 Years Job Exp.</td>\n",
       "      <td>IT Jobs</td>\n",
       "      <td>We are looking for an experienced Web Develope...</td>\n",
       "      <td>Karachi</td>\n",
       "      <td>12-Mar-21</td>\n",
       "    </tr>\n",
       "    <tr>\n",
       "      <th>2</th>\n",
       "      <td>Full Time Russian Speakers Jobs in Pakistan</td>\n",
       "      <td>Premium Job</td>\n",
       "      <td>ICM JAPAN, Pakistan</td>\n",
       "      <td>Full Time Jobs</td>\n",
       "      <td>&lt; 1 Year</td>\n",
       "      <td>Customer Service Jobs</td>\n",
       "      <td>International clients dealing exposure (B2B).S...</td>\n",
       "      <td>Karachi</td>\n",
       "      <td>12-Mar-21</td>\n",
       "    </tr>\n",
       "    <tr>\n",
       "      <th>3</th>\n",
       "      <td>Full Time Customer Support Specialist - Intern...</td>\n",
       "      <td>Premium Job</td>\n",
       "      <td>ibex, Pakistan</td>\n",
       "      <td>Full Time Jobs</td>\n",
       "      <td>Job for Fresh Graduates</td>\n",
       "      <td>Customer Service Jobs</td>\n",
       "      <td>Responsible for acting as a liaison between ou...</td>\n",
       "      <td>Islamabad</td>\n",
       "      <td>9-Mar-21</td>\n",
       "    </tr>\n",
       "    <tr>\n",
       "      <th>4</th>\n",
       "      <td>Full Time English Speaker - International Busi...</td>\n",
       "      <td>Premium Job</td>\n",
       "      <td>ICM JAPAN, Pakistan</td>\n",
       "      <td>Full Time Job</td>\n",
       "      <td>&lt; 1 Year</td>\n",
       "      <td>Customer Service Job</td>\n",
       "      <td>International clients dealing exposure (B2B) a...</td>\n",
       "      <td>Karachi</td>\n",
       "      <td>5-Mar-21</td>\n",
       "    </tr>\n",
       "  </tbody>\n",
       "</table>\n",
       "</div>"
      ],
      "text/plain": [
       "                                            Job Name        label  \\\n",
       "0  Full Time New Job Positions .Net, .Netcore, Fl...  Premium Job   \n",
       "1    Full Time Senior Web Developer Jobs in Pakistan  Premium Job   \n",
       "2        Full Time Russian Speakers Jobs in Pakistan  Premium Job   \n",
       "3  Full Time Customer Support Specialist - Intern...  Premium Job   \n",
       "4  Full Time English Speaker - International Busi...  Premium Job   \n",
       "\n",
       "                              Company Name        Job Type  \\\n",
       "0                Nayel Solutions, Pakistan  Full Time Jobs   \n",
       "1  Eurosoft Tech Private Limited, Pakistan  Full Time Jobs   \n",
       "2                      ICM JAPAN, Pakistan  Full Time Jobs   \n",
       "3                           ibex, Pakistan  Full Time Jobs   \n",
       "4                      ICM JAPAN, Pakistan   Full Time Job   \n",
       "\n",
       "       Experience Required             Department  \\\n",
       "0         2 Years Job Exp.                IT Jobs   \n",
       "1         2 Years Job Exp.                IT Jobs   \n",
       "2                 < 1 Year  Customer Service Jobs   \n",
       "3  Job for Fresh Graduates  Customer Service Jobs   \n",
       "4                 < 1 Year   Customer Service Job   \n",
       "\n",
       "                                                  JD       City Date Posted  \n",
       "0  New Job Positions .net, .netcore, flutter, Tea...  Islamabad   12-Mar-21  \n",
       "1  We are looking for an experienced Web Develope...    Karachi   12-Mar-21  \n",
       "2  International clients dealing exposure (B2B).S...    Karachi   12-Mar-21  \n",
       "3  Responsible for acting as a liaison between ou...  Islamabad    9-Mar-21  \n",
       "4  International clients dealing exposure (B2B) a...    Karachi    5-Mar-21  "
      ]
     },
     "execution_count": 3,
     "metadata": {},
     "output_type": "execute_result"
    }
   ],
   "source": [
    "df.head()"
   ]
  },
  {
   "cell_type": "code",
   "execution_count": 4,
   "id": "b5d3b632",
   "metadata": {},
   "outputs": [
    {
     "data": {
      "text/html": [
       "<div>\n",
       "<style scoped>\n",
       "    .dataframe tbody tr th:only-of-type {\n",
       "        vertical-align: middle;\n",
       "    }\n",
       "\n",
       "    .dataframe tbody tr th {\n",
       "        vertical-align: top;\n",
       "    }\n",
       "\n",
       "    .dataframe thead th {\n",
       "        text-align: right;\n",
       "    }\n",
       "</style>\n",
       "<table border=\"1\" class=\"dataframe\">\n",
       "  <thead>\n",
       "    <tr style=\"text-align: right;\">\n",
       "      <th></th>\n",
       "      <th>Job Name</th>\n",
       "      <th>label</th>\n",
       "      <th>Company Name</th>\n",
       "      <th>Job Type</th>\n",
       "      <th>Experience Required</th>\n",
       "      <th>Department</th>\n",
       "      <th>JD</th>\n",
       "      <th>City</th>\n",
       "      <th>Date Posted</th>\n",
       "    </tr>\n",
       "  </thead>\n",
       "  <tbody>\n",
       "    <tr>\n",
       "      <th>6675</th>\n",
       "      <td>Full Time Senior Software Engineer  Job in Pak...</td>\n",
       "      <td>NaN</td>\n",
       "      <td>KnovaSol, Pakistan</td>\n",
       "      <td>Full Time Job</td>\n",
       "      <td>3 Years Job Exp.</td>\n",
       "      <td>Computer Software Job</td>\n",
       "      <td>We required services of Senior Software Engine...</td>\n",
       "      <td>Islamabad</td>\n",
       "      <td>30-Dec-20</td>\n",
       "    </tr>\n",
       "    <tr>\n",
       "      <th>6676</th>\n",
       "      <td>Full Time Commercial Experience Executive Job ...</td>\n",
       "      <td>NaN</td>\n",
       "      <td>NaN</td>\n",
       "      <td>Full Time Job</td>\n",
       "      <td>2 Years Job Exp.</td>\n",
       "      <td>Admin Job</td>\n",
       "      <td>As one of the leading employers in the country...</td>\n",
       "      <td>Multan</td>\n",
       "      <td>29-Dec-20</td>\n",
       "    </tr>\n",
       "    <tr>\n",
       "      <th>6677</th>\n",
       "      <td>Full Time Business Development Executive Job i...</td>\n",
       "      <td>NaN</td>\n",
       "      <td>Loop Brackets, Pakistan</td>\n",
       "      <td>Full Time Job</td>\n",
       "      <td>2 Years Job Exp.</td>\n",
       "      <td>Computer Software Job</td>\n",
       "      <td>The ideal candidate will have experience in al...</td>\n",
       "      <td>Lahore</td>\n",
       "      <td>29-Dec-20</td>\n",
       "    </tr>\n",
       "    <tr>\n",
       "      <th>6678</th>\n",
       "      <td>Full Time 3D Modeler / CG Artist Game Jobs in ...</td>\n",
       "      <td>NaN</td>\n",
       "      <td>Super Duper Studio , Pakistan</td>\n",
       "      <td>Full Time Jobs</td>\n",
       "      <td>2 Years Job Exp.</td>\n",
       "      <td>Computer Software Jobs</td>\n",
       "      <td>Must be able to create 3D Game Environments an...</td>\n",
       "      <td>Lahore</td>\n",
       "      <td>29-Dec-20</td>\n",
       "    </tr>\n",
       "    <tr>\n",
       "      <th>6679</th>\n",
       "      <td>Full Time Bidding Expert / Social Media Market...</td>\n",
       "      <td>NaN</td>\n",
       "      <td>Super Duper Studio , Pakistan</td>\n",
       "      <td>Full Time Jobs</td>\n",
       "      <td>Job for Fresh Graduates</td>\n",
       "      <td>Computer Software Jobs</td>\n",
       "      <td>Candidate Shall Be Expert in Getting Work from...</td>\n",
       "      <td>Lahore</td>\n",
       "      <td>29-Dec-20</td>\n",
       "    </tr>\n",
       "  </tbody>\n",
       "</table>\n",
       "</div>"
      ],
      "text/plain": [
       "                                               Job Name label  \\\n",
       "6675  Full Time Senior Software Engineer  Job in Pak...   NaN   \n",
       "6676  Full Time Commercial Experience Executive Job ...   NaN   \n",
       "6677  Full Time Business Development Executive Job i...   NaN   \n",
       "6678  Full Time 3D Modeler / CG Artist Game Jobs in ...   NaN   \n",
       "6679  Full Time Bidding Expert / Social Media Market...   NaN   \n",
       "\n",
       "                       Company Name        Job Type      Experience Required  \\\n",
       "6675             KnovaSol, Pakistan   Full Time Job         3 Years Job Exp.   \n",
       "6676                            NaN   Full Time Job         2 Years Job Exp.   \n",
       "6677        Loop Brackets, Pakistan   Full Time Job         2 Years Job Exp.   \n",
       "6678  Super Duper Studio , Pakistan  Full Time Jobs         2 Years Job Exp.   \n",
       "6679  Super Duper Studio , Pakistan  Full Time Jobs  Job for Fresh Graduates   \n",
       "\n",
       "                  Department  \\\n",
       "6675   Computer Software Job   \n",
       "6676               Admin Job   \n",
       "6677   Computer Software Job   \n",
       "6678  Computer Software Jobs   \n",
       "6679  Computer Software Jobs   \n",
       "\n",
       "                                                     JD       City Date Posted  \n",
       "6675  We required services of Senior Software Engine...  Islamabad   30-Dec-20  \n",
       "6676  As one of the leading employers in the country...     Multan   29-Dec-20  \n",
       "6677  The ideal candidate will have experience in al...     Lahore   29-Dec-20  \n",
       "6678  Must be able to create 3D Game Environments an...     Lahore   29-Dec-20  \n",
       "6679  Candidate Shall Be Expert in Getting Work from...     Lahore   29-Dec-20  "
      ]
     },
     "execution_count": 4,
     "metadata": {},
     "output_type": "execute_result"
    }
   ],
   "source": [
    "df.tail()"
   ]
  },
  {
   "cell_type": "code",
   "execution_count": 5,
   "id": "a20079f2",
   "metadata": {},
   "outputs": [
    {
     "data": {
      "text/plain": [
       "(6680, 9)"
      ]
     },
     "execution_count": 5,
     "metadata": {},
     "output_type": "execute_result"
    }
   ],
   "source": [
    "df.shape"
   ]
  },
  {
   "cell_type": "code",
   "execution_count": 6,
   "id": "af6a6101",
   "metadata": {},
   "outputs": [
    {
     "name": "stdout",
     "output_type": "stream",
     "text": [
      "<class 'pandas.core.frame.DataFrame'>\n",
      "RangeIndex: 6680 entries, 0 to 6679\n",
      "Data columns (total 9 columns):\n",
      " #   Column               Non-Null Count  Dtype \n",
      "---  ------               --------------  ----- \n",
      " 0   Job Name             6680 non-null   object\n",
      " 1   label                1115 non-null   object\n",
      " 2   Company Name         6017 non-null   object\n",
      " 3   Job Type             6680 non-null   object\n",
      " 4   Experience Required  6680 non-null   object\n",
      " 5   Department           6680 non-null   object\n",
      " 6   JD                   6680 non-null   object\n",
      " 7   City                 6680 non-null   object\n",
      " 8   Date Posted          6680 non-null   object\n",
      "dtypes: object(9)\n",
      "memory usage: 469.8+ KB\n"
     ]
    }
   ],
   "source": [
    "df.info()"
   ]
  },
  {
   "cell_type": "code",
   "execution_count": 7,
   "id": "ef0c1d8f",
   "metadata": {},
   "outputs": [
    {
     "data": {
      "text/plain": [
       "Job Name                  0\n",
       "label                  5565\n",
       "Company Name            663\n",
       "Job Type                  0\n",
       "Experience Required       0\n",
       "Department                0\n",
       "JD                        0\n",
       "City                      0\n",
       "Date Posted               0\n",
       "dtype: int64"
      ]
     },
     "execution_count": 7,
     "metadata": {},
     "output_type": "execute_result"
    }
   ],
   "source": [
    "df.isna().sum()"
   ]
  },
  {
   "cell_type": "code",
   "execution_count": 8,
   "id": "ae60a25e",
   "metadata": {},
   "outputs": [
    {
     "data": {
      "text/plain": [
       "Index(['Job Name', 'label', 'Company Name', 'Job Type', 'Experience Required',\n",
       "       'Department', 'JD', 'City', 'Date Posted'],\n",
       "      dtype='object')"
      ]
     },
     "execution_count": 8,
     "metadata": {},
     "output_type": "execute_result"
    }
   ],
   "source": [
    "df.columns"
   ]
  },
  {
   "cell_type": "code",
   "execution_count": 9,
   "id": "a034d32a",
   "metadata": {},
   "outputs": [],
   "source": [
    "df['label'].fillna(method='ffill',inplace = True)"
   ]
  },
  {
   "cell_type": "code",
   "execution_count": 10,
   "id": "f7185419",
   "metadata": {},
   "outputs": [],
   "source": [
    "df['Company Name'].fillna(method='ffill',inplace = True)"
   ]
  },
  {
   "cell_type": "code",
   "execution_count": 11,
   "id": "54fe1dbb",
   "metadata": {},
   "outputs": [
    {
     "data": {
      "text/plain": [
       "Job Name               0\n",
       "label                  0\n",
       "Company Name           0\n",
       "Job Type               0\n",
       "Experience Required    0\n",
       "Department             0\n",
       "JD                     0\n",
       "City                   0\n",
       "Date Posted            0\n",
       "dtype: int64"
      ]
     },
     "execution_count": 11,
     "metadata": {},
     "output_type": "execute_result"
    }
   ],
   "source": [
    "df.isna().sum()"
   ]
  },
  {
   "cell_type": "code",
   "execution_count": 12,
   "id": "8628a1d4",
   "metadata": {},
   "outputs": [
    {
     "data": {
      "text/html": [
       "<div>\n",
       "<style scoped>\n",
       "    .dataframe tbody tr th:only-of-type {\n",
       "        vertical-align: middle;\n",
       "    }\n",
       "\n",
       "    .dataframe tbody tr th {\n",
       "        vertical-align: top;\n",
       "    }\n",
       "\n",
       "    .dataframe thead th {\n",
       "        text-align: right;\n",
       "    }\n",
       "</style>\n",
       "<table border=\"1\" class=\"dataframe\">\n",
       "  <thead>\n",
       "    <tr style=\"text-align: right;\">\n",
       "      <th></th>\n",
       "      <th>Job Name</th>\n",
       "      <th>label</th>\n",
       "      <th>Company Name</th>\n",
       "      <th>Job Type</th>\n",
       "      <th>Experience Required</th>\n",
       "      <th>Department</th>\n",
       "      <th>JD</th>\n",
       "      <th>City</th>\n",
       "      <th>Date Posted</th>\n",
       "    </tr>\n",
       "  </thead>\n",
       "  <tbody>\n",
       "    <tr>\n",
       "      <th>0</th>\n",
       "      <td>Full Time New Job Positions .Net, .Netcore, Fl...</td>\n",
       "      <td>Premium Job</td>\n",
       "      <td>Nayel Solutions, Pakistan</td>\n",
       "      <td>Full Time Jobs</td>\n",
       "      <td>2 Years Job Exp.</td>\n",
       "      <td>IT Jobs</td>\n",
       "      <td>New Job Positions .net, .netcore, flutter, Tea...</td>\n",
       "      <td>Islamabad</td>\n",
       "      <td>12-Mar-21</td>\n",
       "    </tr>\n",
       "    <tr>\n",
       "      <th>1</th>\n",
       "      <td>Full Time Senior Web Developer Jobs in Pakistan</td>\n",
       "      <td>Premium Job</td>\n",
       "      <td>Eurosoft Tech Private Limited, Pakistan</td>\n",
       "      <td>Full Time Jobs</td>\n",
       "      <td>2 Years Job Exp.</td>\n",
       "      <td>IT Jobs</td>\n",
       "      <td>We are looking for an experienced Web Develope...</td>\n",
       "      <td>Karachi</td>\n",
       "      <td>12-Mar-21</td>\n",
       "    </tr>\n",
       "    <tr>\n",
       "      <th>2</th>\n",
       "      <td>Full Time Russian Speakers Jobs in Pakistan</td>\n",
       "      <td>Premium Job</td>\n",
       "      <td>ICM JAPAN, Pakistan</td>\n",
       "      <td>Full Time Jobs</td>\n",
       "      <td>&lt; 1 Year</td>\n",
       "      <td>Customer Service Jobs</td>\n",
       "      <td>International clients dealing exposure (B2B).S...</td>\n",
       "      <td>Karachi</td>\n",
       "      <td>12-Mar-21</td>\n",
       "    </tr>\n",
       "    <tr>\n",
       "      <th>3</th>\n",
       "      <td>Full Time Customer Support Specialist - Intern...</td>\n",
       "      <td>Premium Job</td>\n",
       "      <td>ibex, Pakistan</td>\n",
       "      <td>Full Time Jobs</td>\n",
       "      <td>Job for Fresh Graduates</td>\n",
       "      <td>Customer Service Jobs</td>\n",
       "      <td>Responsible for acting as a liaison between ou...</td>\n",
       "      <td>Islamabad</td>\n",
       "      <td>9-Mar-21</td>\n",
       "    </tr>\n",
       "    <tr>\n",
       "      <th>4</th>\n",
       "      <td>Full Time English Speaker - International Busi...</td>\n",
       "      <td>Premium Job</td>\n",
       "      <td>ICM JAPAN, Pakistan</td>\n",
       "      <td>Full Time Job</td>\n",
       "      <td>&lt; 1 Year</td>\n",
       "      <td>Customer Service Job</td>\n",
       "      <td>International clients dealing exposure (B2B) a...</td>\n",
       "      <td>Karachi</td>\n",
       "      <td>5-Mar-21</td>\n",
       "    </tr>\n",
       "  </tbody>\n",
       "</table>\n",
       "</div>"
      ],
      "text/plain": [
       "                                            Job Name        label  \\\n",
       "0  Full Time New Job Positions .Net, .Netcore, Fl...  Premium Job   \n",
       "1    Full Time Senior Web Developer Jobs in Pakistan  Premium Job   \n",
       "2        Full Time Russian Speakers Jobs in Pakistan  Premium Job   \n",
       "3  Full Time Customer Support Specialist - Intern...  Premium Job   \n",
       "4  Full Time English Speaker - International Busi...  Premium Job   \n",
       "\n",
       "                              Company Name        Job Type  \\\n",
       "0                Nayel Solutions, Pakistan  Full Time Jobs   \n",
       "1  Eurosoft Tech Private Limited, Pakistan  Full Time Jobs   \n",
       "2                      ICM JAPAN, Pakistan  Full Time Jobs   \n",
       "3                           ibex, Pakistan  Full Time Jobs   \n",
       "4                      ICM JAPAN, Pakistan   Full Time Job   \n",
       "\n",
       "       Experience Required             Department  \\\n",
       "0         2 Years Job Exp.                IT Jobs   \n",
       "1         2 Years Job Exp.                IT Jobs   \n",
       "2                 < 1 Year  Customer Service Jobs   \n",
       "3  Job for Fresh Graduates  Customer Service Jobs   \n",
       "4                 < 1 Year   Customer Service Job   \n",
       "\n",
       "                                                  JD       City Date Posted  \n",
       "0  New Job Positions .net, .netcore, flutter, Tea...  Islamabad   12-Mar-21  \n",
       "1  We are looking for an experienced Web Develope...    Karachi   12-Mar-21  \n",
       "2  International clients dealing exposure (B2B).S...    Karachi   12-Mar-21  \n",
       "3  Responsible for acting as a liaison between ou...  Islamabad    9-Mar-21  \n",
       "4  International clients dealing exposure (B2B) a...    Karachi    5-Mar-21  "
      ]
     },
     "execution_count": 12,
     "metadata": {},
     "output_type": "execute_result"
    }
   ],
   "source": [
    "df.head()"
   ]
  },
  {
   "cell_type": "markdown",
   "id": "15fa6be8",
   "metadata": {},
   "source": [
    "# Exploratory Data Analysis\n",
    "Exploratory data analysis (EDA) is used to analyze and investigate data sets and summarize their main characteristics, often employing data visualization methods."
   ]
  },
  {
   "cell_type": "code",
   "execution_count": 13,
   "id": "3aca9e2c",
   "metadata": {},
   "outputs": [
    {
     "data": {
      "image/png": "[encoded data removed]",
      "text/plain": [
       "<Figure size 576x288 with 1 Axes>"
      ]
     },
     "metadata": {},
     "output_type": "display_data"
    }
   ],
   "source": [
    "fig, axes = plt.subplots(figsize=(8, 4))\n",
    "df['label'].value_counts(normalize=True).plot.bar(width=0.3, color=('red','green'))\n",
    "\n",
    "plt.tight_layout()\n",
    "plt.show()"
   ]
  },
  {
   "cell_type": "code",
   "execution_count": 14,
   "id": "162c7560",
   "metadata": {},
   "outputs": [
    {
     "data": {
      "text/html": [
       "<div>\n",
       "<style scoped>\n",
       "    .dataframe tbody tr th:only-of-type {\n",
       "        vertical-align: middle;\n",
       "    }\n",
       "\n",
       "    .dataframe tbody tr th {\n",
       "        vertical-align: top;\n",
       "    }\n",
       "\n",
       "    .dataframe thead th {\n",
       "        text-align: right;\n",
       "    }\n",
       "</style>\n",
       "<table border=\"1\" class=\"dataframe\">\n",
       "  <thead>\n",
       "    <tr style=\"text-align: right;\">\n",
       "      <th></th>\n",
       "      <th>Job Name</th>\n",
       "      <th>label</th>\n",
       "      <th>Company Name</th>\n",
       "      <th>Job Type</th>\n",
       "      <th>Experience Required</th>\n",
       "      <th>Department</th>\n",
       "      <th>JD</th>\n",
       "      <th>City</th>\n",
       "      <th>Date Posted</th>\n",
       "    </tr>\n",
       "  </thead>\n",
       "  <tbody>\n",
       "    <tr>\n",
       "      <th>0</th>\n",
       "      <td>Full Time New Job Positions .Net, .Netcore, Fl...</td>\n",
       "      <td>Premium Job</td>\n",
       "      <td>Nayel Solutions, Pakistan</td>\n",
       "      <td>Full Time Jobs</td>\n",
       "      <td>2 Years Job Exp.</td>\n",
       "      <td>IT Jobs</td>\n",
       "      <td>New Job Positions .net, .netcore, flutter, Tea...</td>\n",
       "      <td>Islamabad</td>\n",
       "      <td>12-Mar-21</td>\n",
       "    </tr>\n",
       "    <tr>\n",
       "      <th>1</th>\n",
       "      <td>Full Time Senior Web Developer Jobs in Pakistan</td>\n",
       "      <td>Premium Job</td>\n",
       "      <td>Eurosoft Tech Private Limited, Pakistan</td>\n",
       "      <td>Full Time Jobs</td>\n",
       "      <td>2 Years Job Exp.</td>\n",
       "      <td>IT Jobs</td>\n",
       "      <td>We are looking for an experienced Web Develope...</td>\n",
       "      <td>Karachi</td>\n",
       "      <td>12-Mar-21</td>\n",
       "    </tr>\n",
       "    <tr>\n",
       "      <th>2</th>\n",
       "      <td>Full Time Russian Speakers Jobs in Pakistan</td>\n",
       "      <td>Premium Job</td>\n",
       "      <td>ICM JAPAN, Pakistan</td>\n",
       "      <td>Full Time Jobs</td>\n",
       "      <td>&lt; 1 Year</td>\n",
       "      <td>Customer Service Jobs</td>\n",
       "      <td>International clients dealing exposure (B2B).S...</td>\n",
       "      <td>Karachi</td>\n",
       "      <td>12-Mar-21</td>\n",
       "    </tr>\n",
       "    <tr>\n",
       "      <th>3</th>\n",
       "      <td>Full Time Customer Support Specialist - Intern...</td>\n",
       "      <td>Premium Job</td>\n",
       "      <td>ibex, Pakistan</td>\n",
       "      <td>Full Time Jobs</td>\n",
       "      <td>Job for Fresh Graduates</td>\n",
       "      <td>Customer Service Jobs</td>\n",
       "      <td>Responsible for acting as a liaison between ou...</td>\n",
       "      <td>Islamabad</td>\n",
       "      <td>9-Mar-21</td>\n",
       "    </tr>\n",
       "    <tr>\n",
       "      <th>4</th>\n",
       "      <td>Full Time English Speaker - International Busi...</td>\n",
       "      <td>Premium Job</td>\n",
       "      <td>ICM JAPAN, Pakistan</td>\n",
       "      <td>Full Time Job</td>\n",
       "      <td>&lt; 1 Year</td>\n",
       "      <td>Customer Service Job</td>\n",
       "      <td>International clients dealing exposure (B2B) a...</td>\n",
       "      <td>Karachi</td>\n",
       "      <td>5-Mar-21</td>\n",
       "    </tr>\n",
       "  </tbody>\n",
       "</table>\n",
       "</div>"
      ],
      "text/plain": [
       "                                            Job Name        label  \\\n",
       "0  Full Time New Job Positions .Net, .Netcore, Fl...  Premium Job   \n",
       "1    Full Time Senior Web Developer Jobs in Pakistan  Premium Job   \n",
       "2        Full Time Russian Speakers Jobs in Pakistan  Premium Job   \n",
       "3  Full Time Customer Support Specialist - Intern...  Premium Job   \n",
       "4  Full Time English Speaker - International Busi...  Premium Job   \n",
       "\n",
       "                              Company Name        Job Type  \\\n",
       "0                Nayel Solutions, Pakistan  Full Time Jobs   \n",
       "1  Eurosoft Tech Private Limited, Pakistan  Full Time Jobs   \n",
       "2                      ICM JAPAN, Pakistan  Full Time Jobs   \n",
       "3                           ibex, Pakistan  Full Time Jobs   \n",
       "4                      ICM JAPAN, Pakistan   Full Time Job   \n",
       "\n",
       "       Experience Required             Department  \\\n",
       "0         2 Years Job Exp.                IT Jobs   \n",
       "1         2 Years Job Exp.                IT Jobs   \n",
       "2                 < 1 Year  Customer Service Jobs   \n",
       "3  Job for Fresh Graduates  Customer Service Jobs   \n",
       "4                 < 1 Year   Customer Service Job   \n",
       "\n",
       "                                                  JD       City Date Posted  \n",
       "0  New Job Positions .net, .netcore, flutter, Tea...  Islamabad   12-Mar-21  \n",
       "1  We are looking for an experienced Web Develope...    Karachi   12-Mar-21  \n",
       "2  International clients dealing exposure (B2B).S...    Karachi   12-Mar-21  \n",
       "3  Responsible for acting as a liaison between ou...  Islamabad    9-Mar-21  \n",
       "4  International clients dealing exposure (B2B) a...    Karachi    5-Mar-21  "
      ]
     },
     "execution_count": 14,
     "metadata": {},
     "output_type": "execute_result"
    }
   ],
   "source": [
    "cols = df[['Job Name', 'label', 'Company Name', 'Job Type', 'Experience Required',\n",
    "       'Department', 'JD', 'City', 'Date Posted']]\n",
    "cols.head()"
   ]
  },
  {
   "cell_type": "code",
   "execution_count": 15,
   "id": "41711634",
   "metadata": {},
   "outputs": [
    {
     "data": {
      "text/html": [
       "<div>\n",
       "<style scoped>\n",
       "    .dataframe tbody tr th:only-of-type {\n",
       "        vertical-align: middle;\n",
       "    }\n",
       "\n",
       "    .dataframe tbody tr th {\n",
       "        vertical-align: top;\n",
       "    }\n",
       "\n",
       "    .dataframe thead th {\n",
       "        text-align: right;\n",
       "    }\n",
       "</style>\n",
       "<table border=\"1\" class=\"dataframe\">\n",
       "  <thead>\n",
       "    <tr style=\"text-align: right;\">\n",
       "      <th></th>\n",
       "      <th>Job_Name</th>\n",
       "      <th>label</th>\n",
       "      <th>Company_Name</th>\n",
       "      <th>Job_Type</th>\n",
       "      <th>Experience_Required</th>\n",
       "      <th>Department</th>\n",
       "      <th>JD</th>\n",
       "      <th>City</th>\n",
       "      <th>Date_Posted</th>\n",
       "    </tr>\n",
       "  </thead>\n",
       "  <tbody>\n",
       "    <tr>\n",
       "      <th>0</th>\n",
       "      <td>Full Time New Job Positions .Net, .Netcore, Fl...</td>\n",
       "      <td>Premium Job</td>\n",
       "      <td>Nayel Solutions, Pakistan</td>\n",
       "      <td>Full Time Jobs</td>\n",
       "      <td>2 Years Job Exp.</td>\n",
       "      <td>IT Jobs</td>\n",
       "      <td>New Job Positions .net, .netcore, flutter, Tea...</td>\n",
       "      <td>Islamabad</td>\n",
       "      <td>12-Mar-21</td>\n",
       "    </tr>\n",
       "    <tr>\n",
       "      <th>1</th>\n",
       "      <td>Full Time Senior Web Developer Jobs in Pakistan</td>\n",
       "      <td>Premium Job</td>\n",
       "      <td>Eurosoft Tech Private Limited, Pakistan</td>\n",
       "      <td>Full Time Jobs</td>\n",
       "      <td>2 Years Job Exp.</td>\n",
       "      <td>IT Jobs</td>\n",
       "      <td>We are looking for an experienced Web Develope...</td>\n",
       "      <td>Karachi</td>\n",
       "      <td>12-Mar-21</td>\n",
       "    </tr>\n",
       "    <tr>\n",
       "      <th>2</th>\n",
       "      <td>Full Time Russian Speakers Jobs in Pakistan</td>\n",
       "      <td>Premium Job</td>\n",
       "      <td>ICM JAPAN, Pakistan</td>\n",
       "      <td>Full Time Jobs</td>\n",
       "      <td>&lt; 1 Year</td>\n",
       "      <td>Customer Service Jobs</td>\n",
       "      <td>International clients dealing exposure (B2B).S...</td>\n",
       "      <td>Karachi</td>\n",
       "      <td>12-Mar-21</td>\n",
       "    </tr>\n",
       "    <tr>\n",
       "      <th>3</th>\n",
       "      <td>Full Time Customer Support Specialist - Intern...</td>\n",
       "      <td>Premium Job</td>\n",
       "      <td>ibex, Pakistan</td>\n",
       "      <td>Full Time Jobs</td>\n",
       "      <td>Job for Fresh Graduates</td>\n",
       "      <td>Customer Service Jobs</td>\n",
       "      <td>Responsible for acting as a liaison between ou...</td>\n",
       "      <td>Islamabad</td>\n",
       "      <td>9-Mar-21</td>\n",
       "    </tr>\n",
       "    <tr>\n",
       "      <th>4</th>\n",
       "      <td>Full Time English Speaker - International Busi...</td>\n",
       "      <td>Premium Job</td>\n",
       "      <td>ICM JAPAN, Pakistan</td>\n",
       "      <td>Full Time Job</td>\n",
       "      <td>&lt; 1 Year</td>\n",
       "      <td>Customer Service Job</td>\n",
       "      <td>International clients dealing exposure (B2B) a...</td>\n",
       "      <td>Karachi</td>\n",
       "      <td>5-Mar-21</td>\n",
       "    </tr>\n",
       "  </tbody>\n",
       "</table>\n",
       "</div>"
      ],
      "text/plain": [
       "                                            Job_Name        label  \\\n",
       "0  Full Time New Job Positions .Net, .Netcore, Fl...  Premium Job   \n",
       "1    Full Time Senior Web Developer Jobs in Pakistan  Premium Job   \n",
       "2        Full Time Russian Speakers Jobs in Pakistan  Premium Job   \n",
       "3  Full Time Customer Support Specialist - Intern...  Premium Job   \n",
       "4  Full Time English Speaker - International Busi...  Premium Job   \n",
       "\n",
       "                              Company_Name        Job_Type  \\\n",
       "0                Nayel Solutions, Pakistan  Full Time Jobs   \n",
       "1  Eurosoft Tech Private Limited, Pakistan  Full Time Jobs   \n",
       "2                      ICM JAPAN, Pakistan  Full Time Jobs   \n",
       "3                           ibex, Pakistan  Full Time Jobs   \n",
       "4                      ICM JAPAN, Pakistan   Full Time Job   \n",
       "\n",
       "       Experience_Required             Department  \\\n",
       "0         2 Years Job Exp.                IT Jobs   \n",
       "1         2 Years Job Exp.                IT Jobs   \n",
       "2                 < 1 Year  Customer Service Jobs   \n",
       "3  Job for Fresh Graduates  Customer Service Jobs   \n",
       "4                 < 1 Year   Customer Service Job   \n",
       "\n",
       "                                                  JD       City Date_Posted  \n",
       "0  New Job Positions .net, .netcore, flutter, Tea...  Islamabad   12-Mar-21  \n",
       "1  We are looking for an experienced Web Develope...    Karachi   12-Mar-21  \n",
       "2  International clients dealing exposure (B2B).S...    Karachi   12-Mar-21  \n",
       "3  Responsible for acting as a liaison between ou...  Islamabad    9-Mar-21  \n",
       "4  International clients dealing exposure (B2B) a...    Karachi    5-Mar-21  "
      ]
     },
     "execution_count": 15,
     "metadata": {},
     "output_type": "execute_result"
    }
   ],
   "source": [
    "df = df.rename(columns={\n",
    "    'Job Name': 'Job_Name',\n",
    "    'Company Name': 'Company_Name',\n",
    "    'Job Type': 'Job_Type',\n",
    "    'Experience Required': 'Experience_Required',\n",
    "    'Date Posted': 'Date_Posted'\n",
    "})\n",
    "df.head()"
   ]
  },
  {
   "cell_type": "code",
   "execution_count": 16,
   "id": "20bc6820",
   "metadata": {},
   "outputs": [
    {
     "data": {
      "text/plain": [
       "6680"
      ]
     },
     "execution_count": 16,
     "metadata": {},
     "output_type": "execute_result"
    }
   ],
   "source": [
    "df['Job_Name'].count()"
   ]
  },
  {
   "cell_type": "code",
   "execution_count": 17,
   "id": "dee619fa",
   "metadata": {},
   "outputs": [
    {
     "data": {
      "text/plain": [
       "['Full Time New Job Positions .Net',\n",
       " ' .Netcore',\n",
       " ' Flutter',\n",
       " ' Tea Boy Jobs in Pakistan']"
      ]
     },
     "execution_count": 17,
     "metadata": {},
     "output_type": "execute_result"
    }
   ],
   "source": [
    "a = df['Job_Name'].unique().tolist()[0:10]\n",
    "b = a[0].split(',')\n",
    "b"
   ]
  },
  {
   "cell_type": "code",
   "execution_count": 18,
   "id": "64fba771",
   "metadata": {},
   "outputs": [
    {
     "data": {
      "text/plain": [
       "<AxesSubplot:xlabel='count'>"
      ]
     },
     "execution_count": 18,
     "metadata": {},
     "output_type": "execute_result"
    },
    {
     "data": {
      "image/png": "[encoded data removed]",
      "text/plain": [
       "<Figure size 504x216 with 1 Axes>"
      ]
     },
     "metadata": {},
     "output_type": "display_data"
    }
   ],
   "source": [
    "f, ax = plt.subplots(figsize=(7, 3))\n",
    "sns.countplot(y=b, data=df, color='c')"
   ]
  },
  {
   "cell_type": "code",
   "execution_count": 19,
   "id": "a432ee59",
   "metadata": {},
   "outputs": [
    {
     "data": {
      "text/plain": [
       "array(['Nayel Solutions, Pakistan',\n",
       "       'Eurosoft Tech Private Limited, Pakistan', 'ICM JAPAN, Pakistan',\n",
       "       'ibex, Pakistan', 'Uni Hosiery Co. Inc., Pakistan'], dtype=object)"
      ]
     },
     "execution_count": 19,
     "metadata": {},
     "output_type": "execute_result"
    }
   ],
   "source": [
    "top_com = df['Company_Name'].unique()\n",
    "top_com[0:5]"
   ]
  },
  {
   "cell_type": "code",
   "execution_count": 20,
   "id": "89969a7b",
   "metadata": {},
   "outputs": [
    {
     "data": {
      "text/html": [
       "<div>\n",
       "<style scoped>\n",
       "    .dataframe tbody tr th:only-of-type {\n",
       "        vertical-align: middle;\n",
       "    }\n",
       "\n",
       "    .dataframe tbody tr th {\n",
       "        vertical-align: top;\n",
       "    }\n",
       "\n",
       "    .dataframe thead th {\n",
       "        text-align: right;\n",
       "    }\n",
       "</style>\n",
       "<table border=\"1\" class=\"dataframe\">\n",
       "  <thead>\n",
       "    <tr style=\"text-align: right;\">\n",
       "      <th></th>\n",
       "      <th>Job_Name</th>\n",
       "      <th>label</th>\n",
       "      <th>Company_Name</th>\n",
       "      <th>Job_Type</th>\n",
       "      <th>Experience_Required</th>\n",
       "      <th>Department</th>\n",
       "      <th>JD</th>\n",
       "      <th>City</th>\n",
       "      <th>Date_Posted</th>\n",
       "    </tr>\n",
       "  </thead>\n",
       "  <tbody>\n",
       "    <tr>\n",
       "      <th>215</th>\n",
       "      <td>Full Time Trainee Data Scientist Job in Pakistan</td>\n",
       "      <td>Gallery Job</td>\n",
       "      <td>Eurosoft Tech Private Limited, Pakistan</td>\n",
       "      <td>Full Time Job</td>\n",
       "      <td>2 Years Job Exp.</td>\n",
       "      <td>Finance Job</td>\n",
       "      <td>What is a Trainee Data Scientist?Jazz wants to...</td>\n",
       "      <td>Islamabad</td>\n",
       "      <td>28-Jan-21</td>\n",
       "    </tr>\n",
       "    <tr>\n",
       "      <th>240</th>\n",
       "      <td>Full Time Trainee Data Scientist Job in Pakistan</td>\n",
       "      <td>Gallery Job</td>\n",
       "      <td>Eurosoft Tech Private Limited, Pakistan</td>\n",
       "      <td>Full Time Job</td>\n",
       "      <td>2 Years Job Exp.</td>\n",
       "      <td>IT Job</td>\n",
       "      <td>What is a Trainee Data Scientist?Jazz wants to...</td>\n",
       "      <td>Islamabad</td>\n",
       "      <td>23-Jan-21</td>\n",
       "    </tr>\n",
       "    <tr>\n",
       "      <th>486</th>\n",
       "      <td>Online Full Time Data Scientist Job in Pakistan</td>\n",
       "      <td>Gallery Job</td>\n",
       "      <td>Suvastutech Ltd., Pakistan</td>\n",
       "      <td>Full Time Job</td>\n",
       "      <td>2 Years Job Exp.</td>\n",
       "      <td>Computer Software Job</td>\n",
       "      <td>Engage with business teams to find opportuniti...</td>\n",
       "      <td>Swat</td>\n",
       "      <td>2-Mar-21</td>\n",
       "    </tr>\n",
       "    <tr>\n",
       "      <th>1859</th>\n",
       "      <td>Full Time Data Scientists Job in Pakistan</td>\n",
       "      <td>Gallery Job</td>\n",
       "      <td>2iQ Research GmbH, Pakistan</td>\n",
       "      <td>Full Time Job</td>\n",
       "      <td>3 Years Job Exp.</td>\n",
       "      <td>IT Job</td>\n",
       "      <td>Pre-Processing the raw data.Exploratory Data A...</td>\n",
       "      <td>Lahore</td>\n",
       "      <td>6-Nov-20</td>\n",
       "    </tr>\n",
       "    <tr>\n",
       "      <th>4496</th>\n",
       "      <td>Full Time Chief Data Scientist Job in Pakistan</td>\n",
       "      <td>Hot Job</td>\n",
       "      <td>Mushawar UK Ltd, Pakistan</td>\n",
       "      <td>Full Time Job</td>\n",
       "      <td>8 Years Job Exp.</td>\n",
       "      <td>IT Job</td>\n",
       "      <td>We are looking for a Chief Data Scientist to l...</td>\n",
       "      <td>Lahore</td>\n",
       "      <td>27-Feb-20</td>\n",
       "    </tr>\n",
       "    <tr>\n",
       "      <th>5615</th>\n",
       "      <td>Full Time Trainee Data Scientist Job in Pakistan</td>\n",
       "      <td>Gallery Job</td>\n",
       "      <td>Eurosoft Tech Private Limited, Pakistan</td>\n",
       "      <td>Full Time Job</td>\n",
       "      <td>2 Years Job Exp.</td>\n",
       "      <td>Finance Job</td>\n",
       "      <td>What is a Trainee Data Scientist?Jazz wants to...</td>\n",
       "      <td>Islamabad</td>\n",
       "      <td>28-Jan-21</td>\n",
       "    </tr>\n",
       "    <tr>\n",
       "      <th>5640</th>\n",
       "      <td>Full Time Trainee Data Scientist Job in Pakistan</td>\n",
       "      <td>Gallery Job</td>\n",
       "      <td>Eurosoft Tech Private Limited, Pakistan</td>\n",
       "      <td>Full Time Job</td>\n",
       "      <td>2 Years Job Exp.</td>\n",
       "      <td>IT Job</td>\n",
       "      <td>What is a Trainee Data Scientist?Jazz wants to...</td>\n",
       "      <td>Islamabad</td>\n",
       "      <td>23-Jan-21</td>\n",
       "    </tr>\n",
       "    <tr>\n",
       "      <th>5886</th>\n",
       "      <td>Online Full Time Data Scientist Job in Pakistan</td>\n",
       "      <td>Gallery Job</td>\n",
       "      <td>Suvastutech Ltd., Pakistan</td>\n",
       "      <td>Full Time Job</td>\n",
       "      <td>2 Years Job Exp.</td>\n",
       "      <td>Computer Software Job</td>\n",
       "      <td>Engage with business teams to find opportuniti...</td>\n",
       "      <td>Swat</td>\n",
       "      <td>2-Mar-21</td>\n",
       "    </tr>\n",
       "  </tbody>\n",
       "</table>\n",
       "</div>"
      ],
      "text/plain": [
       "                                              Job_Name        label  \\\n",
       "215   Full Time Trainee Data Scientist Job in Pakistan  Gallery Job   \n",
       "240   Full Time Trainee Data Scientist Job in Pakistan  Gallery Job   \n",
       "486    Online Full Time Data Scientist Job in Pakistan  Gallery Job   \n",
       "1859         Full Time Data Scientists Job in Pakistan  Gallery Job   \n",
       "4496    Full Time Chief Data Scientist Job in Pakistan      Hot Job   \n",
       "5615  Full Time Trainee Data Scientist Job in Pakistan  Gallery Job   \n",
       "5640  Full Time Trainee Data Scientist Job in Pakistan  Gallery Job   \n",
       "5886   Online Full Time Data Scientist Job in Pakistan  Gallery Job   \n",
       "\n",
       "                                 Company_Name       Job_Type  \\\n",
       "215   Eurosoft Tech Private Limited, Pakistan  Full Time Job   \n",
       "240   Eurosoft Tech Private Limited, Pakistan  Full Time Job   \n",
       "486                Suvastutech Ltd., Pakistan  Full Time Job   \n",
       "1859              2iQ Research GmbH, Pakistan  Full Time Job   \n",
       "4496                Mushawar UK Ltd, Pakistan  Full Time Job   \n",
       "5615  Eurosoft Tech Private Limited, Pakistan  Full Time Job   \n",
       "5640  Eurosoft Tech Private Limited, Pakistan  Full Time Job   \n",
       "5886               Suvastutech Ltd., Pakistan  Full Time Job   \n",
       "\n",
       "     Experience_Required             Department  \\\n",
       "215     2 Years Job Exp.            Finance Job   \n",
       "240     2 Years Job Exp.                 IT Job   \n",
       "486     2 Years Job Exp.  Computer Software Job   \n",
       "1859    3 Years Job Exp.                 IT Job   \n",
       "4496    8 Years Job Exp.                 IT Job   \n",
       "5615    2 Years Job Exp.            Finance Job   \n",
       "5640    2 Years Job Exp.                 IT Job   \n",
       "5886    2 Years Job Exp.  Computer Software Job   \n",
       "\n",
       "                                                     JD       City Date_Posted  \n",
       "215   What is a Trainee Data Scientist?Jazz wants to...  Islamabad   28-Jan-21  \n",
       "240   What is a Trainee Data Scientist?Jazz wants to...  Islamabad   23-Jan-21  \n",
       "486   Engage with business teams to find opportuniti...       Swat    2-Mar-21  \n",
       "1859  Pre-Processing the raw data.Exploratory Data A...     Lahore    6-Nov-20  \n",
       "4496  We are looking for a Chief Data Scientist to l...     Lahore   27-Feb-20  \n",
       "5615  What is a Trainee Data Scientist?Jazz wants to...  Islamabad   28-Jan-21  \n",
       "5640  What is a Trainee Data Scientist?Jazz wants to...  Islamabad   23-Jan-21  \n",
       "5886  Engage with business teams to find opportuniti...       Swat    2-Mar-21  "
      ]
     },
     "execution_count": 20,
     "metadata": {},
     "output_type": "execute_result"
    }
   ],
   "source": [
    "data_scientis_jobs = df[ df['Job_Name'].str.contains('Data Scientist')]\n",
    "data_scientis_jobs"
   ]
  },
  {
   "cell_type": "code",
   "execution_count": 21,
   "id": "7ba7adb5",
   "metadata": {},
   "outputs": [
    {
     "data": {
      "text/plain": [
       "8"
      ]
     },
     "execution_count": 21,
     "metadata": {},
     "output_type": "execute_result"
    }
   ],
   "source": [
    "data_scientis_jobs['Job_Name'].count()"
   ]
  },
  {
   "cell_type": "code",
   "execution_count": 22,
   "id": "19744cd5",
   "metadata": {},
   "outputs": [
    {
     "data": {
      "text/plain": [
       "Text(0.5, 0, 'Experience')"
      ]
     },
     "execution_count": 22,
     "metadata": {},
     "output_type": "execute_result"
    },
    {
     "data": {
      "image/png": "[encoded data removed]",
      "text/plain": [
       "<Figure size 432x288 with 1 Axes>"
      ]
     },
     "metadata": {},
     "output_type": "display_data"
    }
   ],
   "source": [
    "e = data_scientis_jobs['Experience_Required'].unique()\n",
    "sns.countplot(x = e, data = df)\n",
    "plt.xlabel('Experience')"
   ]
  },
  {
   "cell_type": "code",
   "execution_count": 23,
   "id": "7d06e23d",
   "metadata": {},
   "outputs": [
    {
     "data": {
      "text/plain": [
       "Text(0.5, 0, 'City')"
      ]
     },
     "execution_count": 23,
     "metadata": {},
     "output_type": "execute_result"
    },
    {
     "data": {
      "image/png": "[encoded data removed]",
      "text/plain": [
       "<Figure size 432x288 with 1 Axes>"
      ]
     },
     "metadata": {},
     "output_type": "display_data"
    }
   ],
   "source": [
    "c = data_scientis_jobs['City'].unique()\n",
    "sns.countplot(x = c, data = df)\n",
    "plt.xlabel('City')"
   ]
  },
  {
   "cell_type": "markdown",
   "id": "cb7a7b0e",
   "metadata": {},
   "source": [
    "# DATA ANALYSIS OF PAKISTAN DATA"
   ]
  },
  {
   "cell_type": "code",
   "execution_count": 24,
   "id": "789889c6",
   "metadata": {},
   "outputs": [
    {
     "data": {
      "text/plain": [
       "Full Time Job     3821\n",
       "Full Time Jobs    2859\n",
       "Name: Job_Type, dtype: int64"
      ]
     },
     "execution_count": 24,
     "metadata": {},
     "output_type": "execute_result"
    }
   ],
   "source": [
    "pak_df = df['Job_Type'].value_counts()\n",
    "pak_df"
   ]
  },
  {
   "cell_type": "code",
   "execution_count": 25,
   "id": "74d01d7d",
   "metadata": {},
   "outputs": [
    {
     "data": {
      "image/png": "[encoded data removed]",
      "text/plain": [
       "<Figure size 720x720 with 1 Axes>"
      ]
     },
     "metadata": {},
     "output_type": "display_data"
    }
   ],
   "source": [
    "plt.figure(figsize=(10,10))\n",
    "res=sns.barplot(x=pak_df, y=pak_df.index)\n",
    "res.set_yticklabels(res.get_ymajorticklabels(), fontsize = 16, color='black')\n",
    "plt.xlabel('Value Counts of Job Type',fontsize = 16, color='black')\n",
    "plt.ylabel('Job Type Names',fontsize = 16, color='black')\n",
    "plt.title('Job Types in Pakistan',fontsize = 16, color='black')\n",
    "plt.show()"
   ]
  },
  {
   "cell_type": "code",
   "execution_count": 26,
   "id": "036d315b",
   "metadata": {},
   "outputs": [
    {
     "data": {
      "text/plain": [
       "2 Years Job Exp.           1635\n",
       "< 1 Year                   1591\n",
       "1 Year Job Exp.            1418\n",
       "3 Years Job Exp.            789\n",
       "Job for Fresh Graduates     449\n",
       "5 Years Job Exp.            323\n",
       "4 Years Job Exp.            210\n",
       "Job for Students            142\n",
       "10 Years Job Exp.            36\n",
       "8 Years Job Exp.             29\n",
       "6 Years Job Exp.             28\n",
       "7 Years Job Exp.             18\n",
       "15 Years Job Exp.             6\n",
       "9 Years Job Exp.              2\n",
       "12 Years Job Exp.             2\n",
       "14 Years Job Exp.             1\n",
       "25 Years Job Exp.             1\n",
       "Name: Experience_Required, dtype: int64"
      ]
     },
     "execution_count": 26,
     "metadata": {},
     "output_type": "execute_result"
    }
   ],
   "source": [
    "#How many years of experienced required for job\n",
    "pak_df = df['Experience_Required'].value_counts()\n",
    "pak_df"
   ]
  },
  {
   "cell_type": "code",
   "execution_count": 27,
   "id": "95e2cab2",
   "metadata": {},
   "outputs": [
    {
     "data": {
      "image/png": "[encoded data removed]",
      "text/plain": [
       "<Figure size 720x720 with 1 Axes>"
      ]
     },
     "metadata": {},
     "output_type": "display_data"
    }
   ],
   "source": [
    "plt.figure(figsize=(10,10))\n",
    "res=sns.barplot(x=pak_df, y=pak_df.index)\n",
    "res.set_yticklabels(res.get_ymajorticklabels(), fontsize = 16, color='black')\n",
    "plt.xlabel('Value Counts of Experienced Required for Job', fontsize = 16, color='black')\n",
    "plt.ylabel('Names of Experienced Required', fontsize = 16, color='black')\n",
    "plt.title('Experienced Required for Job in Pakistan', fontsize = 20, color='black')\n",
    "plt.show()"
   ]
  },
  {
   "cell_type": "code",
   "execution_count": 28,
   "id": "6b8fc431",
   "metadata": {},
   "outputs": [
    {
     "data": {
      "text/plain": [
       "IT Job                    820\n",
       "IT Jobs                   591\n",
       "Computer Software Job     475\n",
       "Computer Software Jobs    406\n",
       "Customer Service Jobs     400\n",
       "Web & E-commerce Job      315\n",
       "Sales Jobs                265\n",
       "Marketing Job             265\n",
       "Web & E-commerce Jobs     262\n",
       "Admin Job                 260\n",
       "Sales Job                 236\n",
       "Marketing Jobs            154\n",
       "Engineering Job           150\n",
       "Customer Service Job      113\n",
       "Production Job             96\n",
       "Name: Department, dtype: int64"
      ]
     },
     "execution_count": 28,
     "metadata": {},
     "output_type": "execute_result"
    }
   ],
   "source": [
    "#How many Jobs are available in each departments.\n",
    "pak_df_Dept = df['Department'].value_counts().head(15)\n",
    "pak_df_Dept"
   ]
  },
  {
   "cell_type": "code",
   "execution_count": 29,
   "id": "d04bc032",
   "metadata": {},
   "outputs": [
    {
     "data": {
      "image/png": "[encoded data removed]",
      "text/plain": [
       "<Figure size 720x576 with 1 Axes>"
      ]
     },
     "metadata": {},
     "output_type": "display_data"
    }
   ],
   "source": [
    "plt.figure(figsize=(10,8))\n",
    "res=sns.barplot(x=pak_df_Dept, y=pak_df_Dept.index)\n",
    "res.set_yticklabels(res.get_ymajorticklabels(), fontsize = 16, color='black')\n",
    "plt.xlabel('Value Counts of Departments of Job', fontsize = 16, color='black')\n",
    "plt.ylabel('Names of Departments', fontsize = 16, color='black')\n",
    "plt.title('Departments of Job in Pakistan', fontsize = 20, color='black')\n",
    "plt.show()"
   ]
  },
  {
   "cell_type": "code",
   "execution_count": 30,
   "id": "b36052dd",
   "metadata": {},
   "outputs": [
    {
     "data": {
      "text/plain": [
       "Lahore        2046\n",
       "Islamabad     1921\n",
       "Karachi       1700\n",
       "Faisalabad     222\n",
       "Sialkot        123\n",
       "Rawalpindi     120\n",
       "Hyderabad       74\n",
       "Multan          68\n",
       "Gujranwala      62\n",
       "Peshawar        38\n",
       "Abbottabad      33\n",
       "Bahawalpur      21\n",
       "Gujrat          17\n",
       "Attock          14\n",
       "Wah             10\n",
       "Name: City, dtype: int64"
      ]
     },
     "execution_count": 30,
     "metadata": {},
     "output_type": "execute_result"
    }
   ],
   "source": [
    "#How many Jobs are available in each city.\n",
    "pak_df_City = df['City'].value_counts().head(15)\n",
    "pak_df_City"
   ]
  },
  {
   "cell_type": "code",
   "execution_count": 31,
   "id": "a8308785",
   "metadata": {},
   "outputs": [
    {
     "data": {
      "image/png": "[encoded data removed]",
      "text/plain": [
       "<Figure size 720x576 with 1 Axes>"
      ]
     },
     "metadata": {},
     "output_type": "display_data"
    }
   ],
   "source": [
    "plt.figure(figsize=(10,8))\n",
    "res=sns.barplot(x=pak_df_City, y=pak_df_City.index)\n",
    "res.set_yticklabels(res.get_ymajorticklabels(), fontsize = 16, color='black')\n",
    "plt.xlabel('Value Counts of City of Job', fontsize = 16, color='black')\n",
    "plt.ylabel('Names of City', fontsize = 16, color='black')\n",
    "plt.title('City of Job in Pakistan', fontsize = 20, color='black')\n",
    "plt.show()"
   ]
  },
  {
   "cell_type": "code",
   "execution_count": 32,
   "id": "b36d94ae",
   "metadata": {},
   "outputs": [
    {
     "data": {
      "text/plain": [
       "23-Feb-21    134\n",
       "22-Feb-21    116\n",
       "28-Jan-21     86\n",
       "12-Feb-21     74\n",
       "15-Mar-21     70\n",
       "27-Jan-21     68\n",
       "21-Jan-21     68\n",
       "23-Jan-21     68\n",
       "6-Jan-21      66\n",
       "26-Feb-21     62\n",
       "Name: Date_Posted, dtype: int64"
      ]
     },
     "execution_count": 32,
     "metadata": {},
     "output_type": "execute_result"
    }
   ],
   "source": [
    "#How many Jobs are Posted in each dates.\n",
    "pak_df_Date = df['Date_Posted'].value_counts().head(10)\n",
    "pak_df_Date"
   ]
  },
  {
   "cell_type": "code",
   "execution_count": 33,
   "id": "27d8c6b4",
   "metadata": {},
   "outputs": [
    {
     "data": {
      "image/png": "[encoded data removed]",
      "text/plain": [
       "<Figure size 720x576 with 1 Axes>"
      ]
     },
     "metadata": {},
     "output_type": "display_data"
    }
   ],
   "source": [
    "plt.figure(figsize=(10,8))\n",
    "res=sns.barplot(x=pak_df_Date, y=pak_df_Date.index)\n",
    "res.set_yticklabels(res.get_ymajorticklabels(), fontsize = 16)\n",
    "plt.xlabel('Value Counts of Dates of Job', fontsize = 20)\n",
    "plt.ylabel('Dates', fontsize = 20)\n",
    "plt.title('Dates of Job Posted in Pakistan', fontsize = 25)\n",
    "plt.show()"
   ]
  },
  {
   "cell_type": "markdown",
   "id": "d6feacef",
   "metadata": {},
   "source": [
    "# converting string data to numeric using one hot Encoding"
   ]
  },
  {
   "cell_type": "code",
   "execution_count": 34,
   "id": "eb3d1117",
   "metadata": {},
   "outputs": [
    {
     "data": {
      "text/html": [
       "<div>\n",
       "<style scoped>\n",
       "    .dataframe tbody tr th:only-of-type {\n",
       "        vertical-align: middle;\n",
       "    }\n",
       "\n",
       "    .dataframe tbody tr th {\n",
       "        vertical-align: top;\n",
       "    }\n",
       "\n",
       "    .dataframe thead th {\n",
       "        text-align: right;\n",
       "    }\n",
       "</style>\n",
       "<table border=\"1\" class=\"dataframe\">\n",
       "  <thead>\n",
       "    <tr style=\"text-align: right;\">\n",
       "      <th></th>\n",
       "      <th>Job_Name_Full Time  Adviser Financial Services / Assistant Branch Manager Jobs in Pakistan</th>\n",
       "      <th>Job_Name_Full Time  Assistant Manager Job in Pakistan</th>\n",
       "      <th>Job_Name_Full Time  Associate Law / Legal Advisor / Lawyer  Job in Pakistan</th>\n",
       "      <th>Job_Name_Full Time  Beauty Salon / Parlour Staff Jobs in Pakistan</th>\n",
       "      <th>Job_Name_Full Time  Business Development Intern Job in Pakistan</th>\n",
       "      <th>Job_Name_Full Time  Circle Technology Head - South Job in Pakistan</th>\n",
       "      <th>Job_Name_Full Time  Customer Services Executive Jobs in Pakistan</th>\n",
       "      <th>Job_Name_Full Time  DAE + RAE Refrigeration And Air Conditioning Technician Required Jobs in Pakistan</th>\n",
       "      <th>Job_Name_Full Time  Data Entry Operator To Perform Daily Tasks. Job in Pakistan</th>\n",
       "      <th>Job_Name_Full Time  Developer (.NET Core) Jobs in Pakistan</th>\n",
       "      <th>...</th>\n",
       "      <th>Date_Posted_9-Jan-20</th>\n",
       "      <th>Date_Posted_9-Jan-21</th>\n",
       "      <th>Date_Posted_9-Jul-20</th>\n",
       "      <th>Date_Posted_9-Jun-20</th>\n",
       "      <th>Date_Posted_9-Mar-20</th>\n",
       "      <th>Date_Posted_9-Mar-21</th>\n",
       "      <th>Date_Posted_9-May-20</th>\n",
       "      <th>Date_Posted_9-Nov-20</th>\n",
       "      <th>Date_Posted_9-Oct-20</th>\n",
       "      <th>Date_Posted_9-Sep-20</th>\n",
       "    </tr>\n",
       "  </thead>\n",
       "  <tbody>\n",
       "    <tr>\n",
       "      <th>0</th>\n",
       "      <td>0</td>\n",
       "      <td>0</td>\n",
       "      <td>0</td>\n",
       "      <td>0</td>\n",
       "      <td>0</td>\n",
       "      <td>0</td>\n",
       "      <td>0</td>\n",
       "      <td>0</td>\n",
       "      <td>0</td>\n",
       "      <td>0</td>\n",
       "      <td>...</td>\n",
       "      <td>0</td>\n",
       "      <td>0</td>\n",
       "      <td>0</td>\n",
       "      <td>0</td>\n",
       "      <td>0</td>\n",
       "      <td>0</td>\n",
       "      <td>0</td>\n",
       "      <td>0</td>\n",
       "      <td>0</td>\n",
       "      <td>0</td>\n",
       "    </tr>\n",
       "    <tr>\n",
       "      <th>1</th>\n",
       "      <td>0</td>\n",
       "      <td>0</td>\n",
       "      <td>0</td>\n",
       "      <td>0</td>\n",
       "      <td>0</td>\n",
       "      <td>0</td>\n",
       "      <td>0</td>\n",
       "      <td>0</td>\n",
       "      <td>0</td>\n",
       "      <td>0</td>\n",
       "      <td>...</td>\n",
       "      <td>0</td>\n",
       "      <td>0</td>\n",
       "      <td>0</td>\n",
       "      <td>0</td>\n",
       "      <td>0</td>\n",
       "      <td>0</td>\n",
       "      <td>0</td>\n",
       "      <td>0</td>\n",
       "      <td>0</td>\n",
       "      <td>0</td>\n",
       "    </tr>\n",
       "    <tr>\n",
       "      <th>2</th>\n",
       "      <td>0</td>\n",
       "      <td>0</td>\n",
       "      <td>0</td>\n",
       "      <td>0</td>\n",
       "      <td>0</td>\n",
       "      <td>0</td>\n",
       "      <td>0</td>\n",
       "      <td>0</td>\n",
       "      <td>0</td>\n",
       "      <td>0</td>\n",
       "      <td>...</td>\n",
       "      <td>0</td>\n",
       "      <td>0</td>\n",
       "      <td>0</td>\n",
       "      <td>0</td>\n",
       "      <td>0</td>\n",
       "      <td>0</td>\n",
       "      <td>0</td>\n",
       "      <td>0</td>\n",
       "      <td>0</td>\n",
       "      <td>0</td>\n",
       "    </tr>\n",
       "    <tr>\n",
       "      <th>3</th>\n",
       "      <td>0</td>\n",
       "      <td>0</td>\n",
       "      <td>0</td>\n",
       "      <td>0</td>\n",
       "      <td>0</td>\n",
       "      <td>0</td>\n",
       "      <td>0</td>\n",
       "      <td>0</td>\n",
       "      <td>0</td>\n",
       "      <td>0</td>\n",
       "      <td>...</td>\n",
       "      <td>0</td>\n",
       "      <td>0</td>\n",
       "      <td>0</td>\n",
       "      <td>0</td>\n",
       "      <td>0</td>\n",
       "      <td>1</td>\n",
       "      <td>0</td>\n",
       "      <td>0</td>\n",
       "      <td>0</td>\n",
       "      <td>0</td>\n",
       "    </tr>\n",
       "    <tr>\n",
       "      <th>4</th>\n",
       "      <td>0</td>\n",
       "      <td>0</td>\n",
       "      <td>0</td>\n",
       "      <td>0</td>\n",
       "      <td>0</td>\n",
       "      <td>0</td>\n",
       "      <td>0</td>\n",
       "      <td>0</td>\n",
       "      <td>0</td>\n",
       "      <td>0</td>\n",
       "      <td>...</td>\n",
       "      <td>0</td>\n",
       "      <td>0</td>\n",
       "      <td>0</td>\n",
       "      <td>0</td>\n",
       "      <td>0</td>\n",
       "      <td>0</td>\n",
       "      <td>0</td>\n",
       "      <td>0</td>\n",
       "      <td>0</td>\n",
       "      <td>0</td>\n",
       "    </tr>\n",
       "  </tbody>\n",
       "</table>\n",
       "<p>5 rows × 12413 columns</p>\n",
       "</div>"
      ],
      "text/plain": [
       "   Job_Name_Full Time  Adviser Financial Services / Assistant Branch Manager Jobs in Pakistan  \\\n",
       "0                                                  0                                            \n",
       "1                                                  0                                            \n",
       "2                                                  0                                            \n",
       "3                                                  0                                            \n",
       "4                                                  0                                            \n",
       "\n",
       "   Job_Name_Full Time  Assistant Manager Job in Pakistan  \\\n",
       "0                                                  0       \n",
       "1                                                  0       \n",
       "2                                                  0       \n",
       "3                                                  0       \n",
       "4                                                  0       \n",
       "\n",
       "   Job_Name_Full Time  Associate Law / Legal Advisor / Lawyer  Job in Pakistan  \\\n",
       "0                                                  0                             \n",
       "1                                                  0                             \n",
       "2                                                  0                             \n",
       "3                                                  0                             \n",
       "4                                                  0                             \n",
       "\n",
       "   Job_Name_Full Time  Beauty Salon / Parlour Staff Jobs in Pakistan  \\\n",
       "0                                                  0                   \n",
       "1                                                  0                   \n",
       "2                                                  0                   \n",
       "3                                                  0                   \n",
       "4                                                  0                   \n",
       "\n",
       "   Job_Name_Full Time  Business Development Intern Job in Pakistan  \\\n",
       "0                                                  0                 \n",
       "1                                                  0                 \n",
       "2                                                  0                 \n",
       "3                                                  0                 \n",
       "4                                                  0                 \n",
       "\n",
       "   Job_Name_Full Time  Circle Technology Head - South Job in Pakistan  \\\n",
       "0                                                  0                    \n",
       "1                                                  0                    \n",
       "2                                                  0                    \n",
       "3                                                  0                    \n",
       "4                                                  0                    \n",
       "\n",
       "   Job_Name_Full Time  Customer Services Executive Jobs in Pakistan  \\\n",
       "0                                                  0                  \n",
       "1                                                  0                  \n",
       "2                                                  0                  \n",
       "3                                                  0                  \n",
       "4                                                  0                  \n",
       "\n",
       "   Job_Name_Full Time  DAE + RAE Refrigeration And Air Conditioning Technician Required Jobs in Pakistan  \\\n",
       "0                                                  0                                                       \n",
       "1                                                  0                                                       \n",
       "2                                                  0                                                       \n",
       "3                                                  0                                                       \n",
       "4                                                  0                                                       \n",
       "\n",
       "   Job_Name_Full Time  Data Entry Operator To Perform Daily Tasks. Job in Pakistan  \\\n",
       "0                                                  0                                 \n",
       "1                                                  0                                 \n",
       "2                                                  0                                 \n",
       "3                                                  0                                 \n",
       "4                                                  0                                 \n",
       "\n",
       "   Job_Name_Full Time  Developer (.NET Core) Jobs in Pakistan  ...  \\\n",
       "0                                                  0           ...   \n",
       "1                                                  0           ...   \n",
       "2                                                  0           ...   \n",
       "3                                                  0           ...   \n",
       "4                                                  0           ...   \n",
       "\n",
       "   Date_Posted_9-Jan-20  Date_Posted_9-Jan-21  Date_Posted_9-Jul-20  \\\n",
       "0                     0                     0                     0   \n",
       "1                     0                     0                     0   \n",
       "2                     0                     0                     0   \n",
       "3                     0                     0                     0   \n",
       "4                     0                     0                     0   \n",
       "\n",
       "   Date_Posted_9-Jun-20  Date_Posted_9-Mar-20  Date_Posted_9-Mar-21  \\\n",
       "0                     0                     0                     0   \n",
       "1                     0                     0                     0   \n",
       "2                     0                     0                     0   \n",
       "3                     0                     0                     1   \n",
       "4                     0                     0                     0   \n",
       "\n",
       "   Date_Posted_9-May-20  Date_Posted_9-Nov-20  Date_Posted_9-Oct-20  \\\n",
       "0                     0                     0                     0   \n",
       "1                     0                     0                     0   \n",
       "2                     0                     0                     0   \n",
       "3                     0                     0                     0   \n",
       "4                     0                     0                     0   \n",
       "\n",
       "   Date_Posted_9-Sep-20  \n",
       "0                     0  \n",
       "1                     0  \n",
       "2                     0  \n",
       "3                     0  \n",
       "4                     0  \n",
       "\n",
       "[5 rows x 12413 columns]"
      ]
     },
     "execution_count": 34,
     "metadata": {},
     "output_type": "execute_result"
    }
   ],
   "source": [
    "job = pd.get_dummies(df, drop_first= True)\n",
    "job.head()"
   ]
  },
  {
   "cell_type": "code",
   "execution_count": 35,
   "id": "f9e247ac",
   "metadata": {},
   "outputs": [
    {
     "data": {
      "text/html": [
       "<div>\n",
       "<style scoped>\n",
       "    .dataframe tbody tr th:only-of-type {\n",
       "        vertical-align: middle;\n",
       "    }\n",
       "\n",
       "    .dataframe tbody tr th {\n",
       "        vertical-align: top;\n",
       "    }\n",
       "\n",
       "    .dataframe thead th {\n",
       "        text-align: right;\n",
       "    }\n",
       "</style>\n",
       "<table border=\"1\" class=\"dataframe\">\n",
       "  <thead>\n",
       "    <tr style=\"text-align: right;\">\n",
       "      <th></th>\n",
       "      <th>Job_Name</th>\n",
       "      <th>label</th>\n",
       "      <th>Company_Name</th>\n",
       "      <th>Job_Type</th>\n",
       "      <th>Experience_Required</th>\n",
       "      <th>Department</th>\n",
       "      <th>JD</th>\n",
       "      <th>City</th>\n",
       "      <th>Date_Posted</th>\n",
       "      <th>Job_Name_Full Time  Adviser Financial Services / Assistant Branch Manager Jobs in Pakistan</th>\n",
       "      <th>...</th>\n",
       "      <th>Date_Posted_9-Jan-20</th>\n",
       "      <th>Date_Posted_9-Jan-21</th>\n",
       "      <th>Date_Posted_9-Jul-20</th>\n",
       "      <th>Date_Posted_9-Jun-20</th>\n",
       "      <th>Date_Posted_9-Mar-20</th>\n",
       "      <th>Date_Posted_9-Mar-21</th>\n",
       "      <th>Date_Posted_9-May-20</th>\n",
       "      <th>Date_Posted_9-Nov-20</th>\n",
       "      <th>Date_Posted_9-Oct-20</th>\n",
       "      <th>Date_Posted_9-Sep-20</th>\n",
       "    </tr>\n",
       "  </thead>\n",
       "  <tbody>\n",
       "    <tr>\n",
       "      <th>0</th>\n",
       "      <td>Full Time New Job Positions .Net, .Netcore, Fl...</td>\n",
       "      <td>Premium Job</td>\n",
       "      <td>Nayel Solutions, Pakistan</td>\n",
       "      <td>Full Time Jobs</td>\n",
       "      <td>2 Years Job Exp.</td>\n",
       "      <td>IT Jobs</td>\n",
       "      <td>New Job Positions .net, .netcore, flutter, Tea...</td>\n",
       "      <td>Islamabad</td>\n",
       "      <td>12-Mar-21</td>\n",
       "      <td>0</td>\n",
       "      <td>...</td>\n",
       "      <td>0</td>\n",
       "      <td>0</td>\n",
       "      <td>0</td>\n",
       "      <td>0</td>\n",
       "      <td>0</td>\n",
       "      <td>0</td>\n",
       "      <td>0</td>\n",
       "      <td>0</td>\n",
       "      <td>0</td>\n",
       "      <td>0</td>\n",
       "    </tr>\n",
       "    <tr>\n",
       "      <th>1</th>\n",
       "      <td>Full Time Senior Web Developer Jobs in Pakistan</td>\n",
       "      <td>Premium Job</td>\n",
       "      <td>Eurosoft Tech Private Limited, Pakistan</td>\n",
       "      <td>Full Time Jobs</td>\n",
       "      <td>2 Years Job Exp.</td>\n",
       "      <td>IT Jobs</td>\n",
       "      <td>We are looking for an experienced Web Develope...</td>\n",
       "      <td>Karachi</td>\n",
       "      <td>12-Mar-21</td>\n",
       "      <td>0</td>\n",
       "      <td>...</td>\n",
       "      <td>0</td>\n",
       "      <td>0</td>\n",
       "      <td>0</td>\n",
       "      <td>0</td>\n",
       "      <td>0</td>\n",
       "      <td>0</td>\n",
       "      <td>0</td>\n",
       "      <td>0</td>\n",
       "      <td>0</td>\n",
       "      <td>0</td>\n",
       "    </tr>\n",
       "    <tr>\n",
       "      <th>2</th>\n",
       "      <td>Full Time Russian Speakers Jobs in Pakistan</td>\n",
       "      <td>Premium Job</td>\n",
       "      <td>ICM JAPAN, Pakistan</td>\n",
       "      <td>Full Time Jobs</td>\n",
       "      <td>&lt; 1 Year</td>\n",
       "      <td>Customer Service Jobs</td>\n",
       "      <td>International clients dealing exposure (B2B).S...</td>\n",
       "      <td>Karachi</td>\n",
       "      <td>12-Mar-21</td>\n",
       "      <td>0</td>\n",
       "      <td>...</td>\n",
       "      <td>0</td>\n",
       "      <td>0</td>\n",
       "      <td>0</td>\n",
       "      <td>0</td>\n",
       "      <td>0</td>\n",
       "      <td>0</td>\n",
       "      <td>0</td>\n",
       "      <td>0</td>\n",
       "      <td>0</td>\n",
       "      <td>0</td>\n",
       "    </tr>\n",
       "    <tr>\n",
       "      <th>3</th>\n",
       "      <td>Full Time Customer Support Specialist - Intern...</td>\n",
       "      <td>Premium Job</td>\n",
       "      <td>ibex, Pakistan</td>\n",
       "      <td>Full Time Jobs</td>\n",
       "      <td>Job for Fresh Graduates</td>\n",
       "      <td>Customer Service Jobs</td>\n",
       "      <td>Responsible for acting as a liaison between ou...</td>\n",
       "      <td>Islamabad</td>\n",
       "      <td>9-Mar-21</td>\n",
       "      <td>0</td>\n",
       "      <td>...</td>\n",
       "      <td>0</td>\n",
       "      <td>0</td>\n",
       "      <td>0</td>\n",
       "      <td>0</td>\n",
       "      <td>0</td>\n",
       "      <td>1</td>\n",
       "      <td>0</td>\n",
       "      <td>0</td>\n",
       "      <td>0</td>\n",
       "      <td>0</td>\n",
       "    </tr>\n",
       "    <tr>\n",
       "      <th>4</th>\n",
       "      <td>Full Time English Speaker - International Busi...</td>\n",
       "      <td>Premium Job</td>\n",
       "      <td>ICM JAPAN, Pakistan</td>\n",
       "      <td>Full Time Job</td>\n",
       "      <td>&lt; 1 Year</td>\n",
       "      <td>Customer Service Job</td>\n",
       "      <td>International clients dealing exposure (B2B) a...</td>\n",
       "      <td>Karachi</td>\n",
       "      <td>5-Mar-21</td>\n",
       "      <td>0</td>\n",
       "      <td>...</td>\n",
       "      <td>0</td>\n",
       "      <td>0</td>\n",
       "      <td>0</td>\n",
       "      <td>0</td>\n",
       "      <td>0</td>\n",
       "      <td>0</td>\n",
       "      <td>0</td>\n",
       "      <td>0</td>\n",
       "      <td>0</td>\n",
       "      <td>0</td>\n",
       "    </tr>\n",
       "  </tbody>\n",
       "</table>\n",
       "<p>5 rows × 12422 columns</p>\n",
       "</div>"
      ],
      "text/plain": [
       "                                            Job_Name        label  \\\n",
       "0  Full Time New Job Positions .Net, .Netcore, Fl...  Premium Job   \n",
       "1    Full Time Senior Web Developer Jobs in Pakistan  Premium Job   \n",
       "2        Full Time Russian Speakers Jobs in Pakistan  Premium Job   \n",
       "3  Full Time Customer Support Specialist - Intern...  Premium Job   \n",
       "4  Full Time English Speaker - International Busi...  Premium Job   \n",
       "\n",
       "                              Company_Name        Job_Type  \\\n",
       "0                Nayel Solutions, Pakistan  Full Time Jobs   \n",
       "1  Eurosoft Tech Private Limited, Pakistan  Full Time Jobs   \n",
       "2                      ICM JAPAN, Pakistan  Full Time Jobs   \n",
       "3                           ibex, Pakistan  Full Time Jobs   \n",
       "4                      ICM JAPAN, Pakistan   Full Time Job   \n",
       "\n",
       "       Experience_Required             Department  \\\n",
       "0         2 Years Job Exp.                IT Jobs   \n",
       "1         2 Years Job Exp.                IT Jobs   \n",
       "2                 < 1 Year  Customer Service Jobs   \n",
       "3  Job for Fresh Graduates  Customer Service Jobs   \n",
       "4                 < 1 Year   Customer Service Job   \n",
       "\n",
       "                                                  JD       City Date_Posted  \\\n",
       "0  New Job Positions .net, .netcore, flutter, Tea...  Islamabad   12-Mar-21   \n",
       "1  We are looking for an experienced Web Develope...    Karachi   12-Mar-21   \n",
       "2  International clients dealing exposure (B2B).S...    Karachi   12-Mar-21   \n",
       "3  Responsible for acting as a liaison between ou...  Islamabad    9-Mar-21   \n",
       "4  International clients dealing exposure (B2B) a...    Karachi    5-Mar-21   \n",
       "\n",
       "   Job_Name_Full Time  Adviser Financial Services / Assistant Branch Manager Jobs in Pakistan  \\\n",
       "0                                                  0                                            \n",
       "1                                                  0                                            \n",
       "2                                                  0                                            \n",
       "3                                                  0                                            \n",
       "4                                                  0                                            \n",
       "\n",
       "   ...  Date_Posted_9-Jan-20  Date_Posted_9-Jan-21  Date_Posted_9-Jul-20  \\\n",
       "0  ...                     0                     0                     0   \n",
       "1  ...                     0                     0                     0   \n",
       "2  ...                     0                     0                     0   \n",
       "3  ...                     0                     0                     0   \n",
       "4  ...                     0                     0                     0   \n",
       "\n",
       "   Date_Posted_9-Jun-20  Date_Posted_9-Mar-20  Date_Posted_9-Mar-21  \\\n",
       "0                     0                     0                     0   \n",
       "1                     0                     0                     0   \n",
       "2                     0                     0                     0   \n",
       "3                     0                     0                     1   \n",
       "4                     0                     0                     0   \n",
       "\n",
       "   Date_Posted_9-May-20  Date_Posted_9-Nov-20  Date_Posted_9-Oct-20  \\\n",
       "0                     0                     0                     0   \n",
       "1                     0                     0                     0   \n",
       "2                     0                     0                     0   \n",
       "3                     0                     0                     0   \n",
       "4                     0                     0                     0   \n",
       "\n",
       "   Date_Posted_9-Sep-20  \n",
       "0                     0  \n",
       "1                     0  \n",
       "2                     0  \n",
       "3                     0  \n",
       "4                     0  \n",
       "\n",
       "[5 rows x 12422 columns]"
      ]
     },
     "execution_count": 35,
     "metadata": {},
     "output_type": "execute_result"
    }
   ],
   "source": [
    "jobpk = pd.concat([df, job ], axis = 1)\n",
    "jobpk.head()"
   ]
  },
  {
   "cell_type": "code",
   "execution_count": null,
   "id": "c2b34976",
   "metadata": {},
   "outputs": [],
   "source": [
    "categorical_features = ['Job_Name', 'Company_Name', 'Job_Type', 'Experience_Required', 'Department', 'JD', 'City', 'Date_Posted']"
   ]
  },
  {
   "cell_type": "code",
   "execution_count": null,
   "id": "2b24d21d",
   "metadata": {},
   "outputs": [],
   "source": [
    "data = jobpk.drop(columns=categorical_features, axis=1)\n",
    "data.head()"
   ]
  },
  {
   "cell_type": "code",
   "execution_count": null,
   "id": "1570a9de",
   "metadata": {},
   "outputs": [],
   "source": []
  }
 ],
 "metadata": {
  "kernelspec": {
   "display_name": "Python 3 (ipykernel)",
   "language": "python",
   "name": "python3"
  },
  "language_info": {
   "codemirror_mode": {
    "name": "ipython",
    "version": 3
   },
   "file_extension": ".py",
   "mimetype": "text/x-python",
   "name": "python",
   "nbconvert_exporter": "python",
   "pygments_lexer": "ipython3",
   "version": "3.9.7"
  }
 },
 "nbformat": 4,
 "nbformat_minor": 5
}
