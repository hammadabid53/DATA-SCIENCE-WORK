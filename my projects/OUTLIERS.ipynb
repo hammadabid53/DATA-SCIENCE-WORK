{
 "cells": [
  {
   "cell_type": "code",
   "execution_count": 52,
   "id": "8e5a2d8f",
   "metadata": {},
   "outputs": [],
   "source": [
    "import pandas as pd\n",
    "import numpy as np\n",
    "from matplotlib import pyplot as plt\n",
    "%matplotlib inline\n",
    "import matplotlib\n",
    "matplotlib.rcParams[\"figure.figsize\"] = (20,10)"
   ]
  },
  {
   "cell_type": "code",
   "execution_count": 53,
   "id": "922a2a96",
   "metadata": {},
   "outputs": [
    {
     "data": {
      "text/html": [
       "<div>\n",
       "<style scoped>\n",
       "    .dataframe tbody tr th:only-of-type {\n",
       "        vertical-align: middle;\n",
       "    }\n",
       "\n",
       "    .dataframe tbody tr th {\n",
       "        vertical-align: top;\n",
       "    }\n",
       "\n",
       "    .dataframe thead th {\n",
       "        text-align: right;\n",
       "    }\n",
       "</style>\n",
       "<table border=\"1\" class=\"dataframe\">\n",
       "  <thead>\n",
       "    <tr style=\"text-align: right;\">\n",
       "      <th></th>\n",
       "      <th>Gender</th>\n",
       "      <th>Height</th>\n",
       "      <th>Weight</th>\n",
       "    </tr>\n",
       "  </thead>\n",
       "  <tbody>\n",
       "    <tr>\n",
       "      <th>0</th>\n",
       "      <td>Male</td>\n",
       "      <td>73.847017</td>\n",
       "      <td>241.893563</td>\n",
       "    </tr>\n",
       "    <tr>\n",
       "      <th>1</th>\n",
       "      <td>Male</td>\n",
       "      <td>68.781904</td>\n",
       "      <td>162.310473</td>\n",
       "    </tr>\n",
       "    <tr>\n",
       "      <th>2</th>\n",
       "      <td>Male</td>\n",
       "      <td>74.110105</td>\n",
       "      <td>212.740856</td>\n",
       "    </tr>\n",
       "    <tr>\n",
       "      <th>3</th>\n",
       "      <td>Male</td>\n",
       "      <td>71.730978</td>\n",
       "      <td>220.042470</td>\n",
       "    </tr>\n",
       "    <tr>\n",
       "      <th>4</th>\n",
       "      <td>Male</td>\n",
       "      <td>69.881796</td>\n",
       "      <td>206.349801</td>\n",
       "    </tr>\n",
       "  </tbody>\n",
       "</table>\n",
       "</div>"
      ],
      "text/plain": [
       "  Gender     Height      Weight\n",
       "0   Male  73.847017  241.893563\n",
       "1   Male  68.781904  162.310473\n",
       "2   Male  74.110105  212.740856\n",
       "3   Male  71.730978  220.042470\n",
       "4   Male  69.881796  206.349801"
      ]
     },
     "execution_count": 53,
     "metadata": {},
     "output_type": "execute_result"
    }
   ],
   "source": [
    "df = pd.read_csv(\"weight-height.csv\")\n",
    "df.head()"
   ]
  },
  {
   "cell_type": "code",
   "execution_count": 54,
   "id": "9978d8a1",
   "metadata": {},
   "outputs": [
    {
     "data": {
      "text/plain": [
       "(63.505620481218955, 69.1742617268347)"
      ]
     },
     "execution_count": 54,
     "metadata": {},
     "output_type": "execute_result"
    }
   ],
   "source": [
    "Q1 = df.Height.quantile(0.25)\n",
    "Q3 = df.Height.quantile(0.75)\n",
    "Q1 , Q3"
   ]
  },
  {
   "cell_type": "code",
   "execution_count": 55,
   "id": "f5eeb8ce",
   "metadata": {},
   "outputs": [
    {
     "data": {
      "text/plain": [
       "5.668641245615746"
      ]
     },
     "execution_count": 55,
     "metadata": {},
     "output_type": "execute_result"
    }
   ],
   "source": [
    "IQR = Q3 - Q1\n",
    "IQR"
   ]
  },
  {
   "cell_type": "code",
   "execution_count": 56,
   "id": "02b3312f",
   "metadata": {},
   "outputs": [
    {
     "data": {
      "text/plain": [
       "(55.00265861279534, 60.67129985841108)"
      ]
     },
     "execution_count": 56,
     "metadata": {},
     "output_type": "execute_result"
    }
   ],
   "source": [
    "lower_limit = Q1 - 1.5*IQR\n",
    "upper_limit = Q3 - 1.5*IQR\n",
    "lower_limit , upper_limit"
   ]
  },
  {
   "cell_type": "code",
   "execution_count": 57,
   "id": "d14736fe",
   "metadata": {},
   "outputs": [
    {
     "data": {
      "text/html": [
       "<div>\n",
       "<style scoped>\n",
       "    .dataframe tbody tr th:only-of-type {\n",
       "        vertical-align: middle;\n",
       "    }\n",
       "\n",
       "    .dataframe tbody tr th {\n",
       "        vertical-align: top;\n",
       "    }\n",
       "\n",
       "    .dataframe thead th {\n",
       "        text-align: right;\n",
       "    }\n",
       "</style>\n",
       "<table border=\"1\" class=\"dataframe\">\n",
       "  <thead>\n",
       "    <tr style=\"text-align: right;\">\n",
       "      <th></th>\n",
       "      <th>Gender</th>\n",
       "      <th>Height</th>\n",
       "      <th>Weight</th>\n",
       "    </tr>\n",
       "  </thead>\n",
       "  <tbody>\n",
       "    <tr>\n",
       "      <th>1238</th>\n",
       "      <td>Male</td>\n",
       "      <td>60.363312</td>\n",
       "      <td>134.146848</td>\n",
       "    </tr>\n",
       "    <tr>\n",
       "      <th>1942</th>\n",
       "      <td>Male</td>\n",
       "      <td>59.981865</td>\n",
       "      <td>112.902939</td>\n",
       "    </tr>\n",
       "    <tr>\n",
       "      <th>2191</th>\n",
       "      <td>Male</td>\n",
       "      <td>59.938650</td>\n",
       "      <td>141.459579</td>\n",
       "    </tr>\n",
       "    <tr>\n",
       "      <th>2334</th>\n",
       "      <td>Male</td>\n",
       "      <td>59.380650</td>\n",
       "      <td>136.391006</td>\n",
       "    </tr>\n",
       "    <tr>\n",
       "      <th>2527</th>\n",
       "      <td>Male</td>\n",
       "      <td>60.269108</td>\n",
       "      <td>126.455613</td>\n",
       "    </tr>\n",
       "    <tr>\n",
       "      <th>...</th>\n",
       "      <td>...</td>\n",
       "      <td>...</td>\n",
       "      <td>...</td>\n",
       "    </tr>\n",
       "    <tr>\n",
       "      <th>9981</th>\n",
       "      <td>Female</td>\n",
       "      <td>60.443264</td>\n",
       "      <td>135.559390</td>\n",
       "    </tr>\n",
       "    <tr>\n",
       "      <th>9984</th>\n",
       "      <td>Female</td>\n",
       "      <td>59.047029</td>\n",
       "      <td>111.707369</td>\n",
       "    </tr>\n",
       "    <tr>\n",
       "      <th>9988</th>\n",
       "      <td>Female</td>\n",
       "      <td>59.538729</td>\n",
       "      <td>121.244876</td>\n",
       "    </tr>\n",
       "    <tr>\n",
       "      <th>9993</th>\n",
       "      <td>Female</td>\n",
       "      <td>60.030434</td>\n",
       "      <td>97.687432</td>\n",
       "    </tr>\n",
       "    <tr>\n",
       "      <th>9994</th>\n",
       "      <td>Female</td>\n",
       "      <td>59.098250</td>\n",
       "      <td>110.529686</td>\n",
       "    </tr>\n",
       "  </tbody>\n",
       "</table>\n",
       "<p>654 rows × 3 columns</p>\n",
       "</div>"
      ],
      "text/plain": [
       "      Gender     Height      Weight\n",
       "1238    Male  60.363312  134.146848\n",
       "1942    Male  59.981865  112.902939\n",
       "2191    Male  59.938650  141.459579\n",
       "2334    Male  59.380650  136.391006\n",
       "2527    Male  60.269108  126.455613\n",
       "...      ...        ...         ...\n",
       "9981  Female  60.443264  135.559390\n",
       "9984  Female  59.047029  111.707369\n",
       "9988  Female  59.538729  121.244876\n",
       "9993  Female  60.030434   97.687432\n",
       "9994  Female  59.098250  110.529686\n",
       "\n",
       "[654 rows x 3 columns]"
      ]
     },
     "metadata": {},
     "output_type": "display_data"
    }
   ],
   "source": [
    "df2_with_no_outlier = df[(df.Height>lower_limit)&(df.Height<upper_limit)]\n",
    "display(df2_with_no_outlier)"
   ]
  },
  {
   "cell_type": "code",
   "execution_count": 58,
   "id": "6e0daea3",
   "metadata": {},
   "outputs": [
    {
     "data": {
      "text/plain": [
       "(135.8180513055015, 187.16952486868348)"
      ]
     },
     "execution_count": 58,
     "metadata": {},
     "output_type": "execute_result"
    }
   ],
   "source": [
    "Q1 = df.Weight.quantile(0.25)\n",
    "Q3 = df.Weight.quantile(0.75)\n",
    "Q1 , Q3"
   ]
  },
  {
   "cell_type": "code",
   "execution_count": 59,
   "id": "1aed7f0a",
   "metadata": {},
   "outputs": [
    {
     "data": {
      "text/plain": [
       "51.35147356318197"
      ]
     },
     "execution_count": 59,
     "metadata": {},
     "output_type": "execute_result"
    }
   ],
   "source": [
    "IQR = Q3 - Q1\n",
    "IQR"
   ]
  },
  {
   "cell_type": "code",
   "execution_count": 60,
   "id": "587ca4f1",
   "metadata": {},
   "outputs": [
    {
     "data": {
      "text/plain": [
       "(58.79084096072856, 110.14231452391053)"
      ]
     },
     "execution_count": 60,
     "metadata": {},
     "output_type": "execute_result"
    }
   ],
   "source": [
    "lower_limit = Q1 - 1.5*IQR\n",
    "upper_limit = Q3 - 1.5*IQR\n",
    "lower_limit , upper_limit"
   ]
  },
  {
   "cell_type": "code",
   "execution_count": 61,
   "id": "d135d9a8",
   "metadata": {},
   "outputs": [
    {
     "data": {
      "text/html": [
       "<div>\n",
       "<style scoped>\n",
       "    .dataframe tbody tr th:only-of-type {\n",
       "        vertical-align: middle;\n",
       "    }\n",
       "\n",
       "    .dataframe tbody tr th {\n",
       "        vertical-align: top;\n",
       "    }\n",
       "\n",
       "    .dataframe thead th {\n",
       "        text-align: right;\n",
       "    }\n",
       "</style>\n",
       "<table border=\"1\" class=\"dataframe\">\n",
       "  <thead>\n",
       "    <tr style=\"text-align: right;\">\n",
       "      <th></th>\n",
       "      <th>Gender</th>\n",
       "      <th>Height</th>\n",
       "      <th>Weight</th>\n",
       "    </tr>\n",
       "  </thead>\n",
       "  <tbody>\n",
       "    <tr>\n",
       "      <th>5000</th>\n",
       "      <td>Female</td>\n",
       "      <td>58.910732</td>\n",
       "      <td>102.088326</td>\n",
       "    </tr>\n",
       "    <tr>\n",
       "      <th>5009</th>\n",
       "      <td>Female</td>\n",
       "      <td>63.677868</td>\n",
       "      <td>104.151560</td>\n",
       "    </tr>\n",
       "    <tr>\n",
       "      <th>5011</th>\n",
       "      <td>Female</td>\n",
       "      <td>61.798879</td>\n",
       "      <td>106.233687</td>\n",
       "    </tr>\n",
       "    <tr>\n",
       "      <th>5013</th>\n",
       "      <td>Female</td>\n",
       "      <td>58.895886</td>\n",
       "      <td>101.682613</td>\n",
       "    </tr>\n",
       "    <tr>\n",
       "      <th>5014</th>\n",
       "      <td>Female</td>\n",
       "      <td>58.438249</td>\n",
       "      <td>98.192621</td>\n",
       "    </tr>\n",
       "    <tr>\n",
       "      <th>...</th>\n",
       "      <td>...</td>\n",
       "      <td>...</td>\n",
       "      <td>...</td>\n",
       "    </tr>\n",
       "    <tr>\n",
       "      <th>9922</th>\n",
       "      <td>Female</td>\n",
       "      <td>58.752489</td>\n",
       "      <td>106.846041</td>\n",
       "    </tr>\n",
       "    <tr>\n",
       "      <th>9929</th>\n",
       "      <td>Female</td>\n",
       "      <td>59.514678</td>\n",
       "      <td>109.421206</td>\n",
       "    </tr>\n",
       "    <tr>\n",
       "      <th>9989</th>\n",
       "      <td>Female</td>\n",
       "      <td>60.955084</td>\n",
       "      <td>95.686674</td>\n",
       "    </tr>\n",
       "    <tr>\n",
       "      <th>9991</th>\n",
       "      <td>Female</td>\n",
       "      <td>62.636675</td>\n",
       "      <td>102.853563</td>\n",
       "    </tr>\n",
       "    <tr>\n",
       "      <th>9993</th>\n",
       "      <td>Female</td>\n",
       "      <td>60.030434</td>\n",
       "      <td>97.687432</td>\n",
       "    </tr>\n",
       "  </tbody>\n",
       "</table>\n",
       "<p>450 rows × 3 columns</p>\n",
       "</div>"
      ],
      "text/plain": [
       "      Gender     Height      Weight\n",
       "5000  Female  58.910732  102.088326\n",
       "5009  Female  63.677868  104.151560\n",
       "5011  Female  61.798879  106.233687\n",
       "5013  Female  58.895886  101.682613\n",
       "5014  Female  58.438249   98.192621\n",
       "...      ...        ...         ...\n",
       "9922  Female  58.752489  106.846041\n",
       "9929  Female  59.514678  109.421206\n",
       "9989  Female  60.955084   95.686674\n",
       "9991  Female  62.636675  102.853563\n",
       "9993  Female  60.030434   97.687432\n",
       "\n",
       "[450 rows x 3 columns]"
      ]
     },
     "metadata": {},
     "output_type": "display_data"
    }
   ],
   "source": [
    "df2_with_no_outlier = df[(df.Weight>lower_limit)&(df.Weight<upper_limit)]\n",
    "display(df2_with_no_outlier)"
   ]
  },
  {
   "cell_type": "code",
   "execution_count": 62,
   "id": "05b62ad8",
   "metadata": {},
   "outputs": [
    {
     "data": {
      "text/html": [
       "<div>\n",
       "<style scoped>\n",
       "    .dataframe tbody tr th:only-of-type {\n",
       "        vertical-align: middle;\n",
       "    }\n",
       "\n",
       "    .dataframe tbody tr th {\n",
       "        vertical-align: top;\n",
       "    }\n",
       "\n",
       "    .dataframe thead th {\n",
       "        text-align: right;\n",
       "    }\n",
       "</style>\n",
       "<table border=\"1\" class=\"dataframe\">\n",
       "  <thead>\n",
       "    <tr style=\"text-align: right;\">\n",
       "      <th></th>\n",
       "      <th>Gender</th>\n",
       "      <th>Height</th>\n",
       "      <th>Weight</th>\n",
       "    </tr>\n",
       "  </thead>\n",
       "  <tbody>\n",
       "    <tr>\n",
       "      <th>5000</th>\n",
       "      <td>Female</td>\n",
       "      <td>58.910732</td>\n",
       "      <td>102.088326</td>\n",
       "    </tr>\n",
       "    <tr>\n",
       "      <th>5009</th>\n",
       "      <td>Female</td>\n",
       "      <td>63.677868</td>\n",
       "      <td>104.151560</td>\n",
       "    </tr>\n",
       "    <tr>\n",
       "      <th>5011</th>\n",
       "      <td>Female</td>\n",
       "      <td>61.798879</td>\n",
       "      <td>106.233687</td>\n",
       "    </tr>\n",
       "    <tr>\n",
       "      <th>5013</th>\n",
       "      <td>Female</td>\n",
       "      <td>58.895886</td>\n",
       "      <td>101.682613</td>\n",
       "    </tr>\n",
       "    <tr>\n",
       "      <th>5014</th>\n",
       "      <td>Female</td>\n",
       "      <td>58.438249</td>\n",
       "      <td>98.192621</td>\n",
       "    </tr>\n",
       "  </tbody>\n",
       "</table>\n",
       "</div>"
      ],
      "text/plain": [
       "      Gender     Height      Weight\n",
       "5000  Female  58.910732  102.088326\n",
       "5009  Female  63.677868  104.151560\n",
       "5011  Female  61.798879  106.233687\n",
       "5013  Female  58.895886  101.682613\n",
       "5014  Female  58.438249   98.192621"
      ]
     },
     "execution_count": 62,
     "metadata": {},
     "output_type": "execute_result"
    }
   ],
   "source": [
    "df2_with_no_outlier.head()"
   ]
  },
  {
   "cell_type": "code",
   "execution_count": 63,
   "id": "23e95b73",
   "metadata": {},
   "outputs": [
    {
     "name": "stderr",
     "output_type": "stream",
     "text": [
      "C:\\Users\\mabdu\\anaconda3\\lib\\site-packages\\seaborn\\_decorators.py:36: FutureWarning: Pass the following variable as a keyword arg: x. From version 0.12, the only valid positional argument will be `data`, and passing other arguments without an explicit keyword will result in an error or misinterpretation.\n",
      "  warnings.warn(\n"
     ]
    },
    {
     "data": {
      "text/plain": [
       "<AxesSubplot:xlabel='Height'>"
      ]
     },
     "execution_count": 63,
     "metadata": {},
     "output_type": "execute_result"
    },
    {
     "data": {
      "image/png": "[encoded data removed]",
      "text/plain": [
       "<Figure size 1440x720 with 1 Axes>"
      ]
     },
     "metadata": {
      "needs_background": "light"
     },
     "output_type": "display_data"
    }
   ],
   "source": [
    "import seaborn as sns\n",
    "sns.boxplot(df['Height'])"
   ]
  },
  {
   "cell_type": "code",
   "execution_count": 64,
   "id": "feb984e9",
   "metadata": {},
   "outputs": [
    {
     "name": "stdout",
     "output_type": "stream",
     "text": [
      "(array([   0,    2,   23,   31,   62,   82,  115,  190,  197,  202,  215,\n",
      "        232,  238,  248,  263,  290,  297,  310,  318,  330,  360,  386,\n",
      "        425,  430,  436,  442,  447,  457,  459,  511,  534,  536,  540,\n",
      "        554,  557,  574,  577,  591,  598,  605,  610,  619,  632,  633,\n",
      "        637,  639,  645,  649,  650,  672,  673,  683,  711,  726,  741,\n",
      "        770,  776,  788,  789,  815,  819,  821,  841,  845,  849,  856,\n",
      "        878,  883,  900,  912,  915,  935,  949,  964,  966,  977,  983,\n",
      "        988,  994,  997, 1006, 1007, 1023, 1030, 1054, 1057, 1096, 1105,\n",
      "       1117, 1129, 1131, 1151, 1154, 1173, 1182, 1207, 1242, 1265, 1280,\n",
      "       1282, 1317, 1323, 1325, 1328, 1341, 1348, 1350, 1358, 1367, 1374,\n",
      "       1391, 1396, 1408, 1410, 1435, 1441, 1452, 1479, 1484, 1486, 1487,\n",
      "       1489, 1493, 1502, 1506, 1513, 1521, 1533, 1540, 1544, 1547, 1558,\n",
      "       1561, 1568, 1573, 1610, 1611, 1618, 1625, 1635, 1637, 1685, 1687,\n",
      "       1688, 1696, 1701, 1750, 1776, 1778, 1785, 1794, 1796, 1844, 1858,\n",
      "       1884, 1885, 1893, 1894, 1896, 1916, 1922, 1927, 1945, 1949, 1954,\n",
      "       1959, 1981, 1986, 2014, 2018, 2030, 2033, 2053, 2066, 2070, 2074,\n",
      "       2087, 2098, 2099, 2108, 2110, 2138, 2152, 2153, 2166, 2167, 2235,\n",
      "       2248, 2252, 2272, 2273, 2280, 2293, 2318, 2326, 2332, 2339, 2370,\n",
      "       2380, 2387, 2389, 2398, 2401, 2413, 2416, 2432, 2436, 2448, 2450,\n",
      "       2452, 2477, 2487, 2494, 2519, 2540, 2572, 2574, 2607, 2608, 2614,\n",
      "       2623, 2643, 2645, 2649, 2651, 2656, 2700, 2708, 2717, 2722, 2725,\n",
      "       2728, 2757, 2761, 2764, 2766, 2772, 2778, 2789, 2800, 2801, 2820,\n",
      "       2847, 2885, 2886, 2936, 2951, 2968, 2971, 2995, 2996, 3006, 3023,\n",
      "       3025, 3037, 3090, 3094, 3138, 3142, 3179, 3228, 3247, 3259, 3266,\n",
      "       3285, 3299, 3303, 3304, 3310, 3321, 3327, 3422, 3450, 3464, 3469,\n",
      "       3484, 3487, 3493, 3498, 3525, 3530, 3531, 3541, 3548, 3550, 3585,\n",
      "       3596, 3625, 3644, 3657, 3660, 3669, 3695, 3717, 3718, 3720, 3721,\n",
      "       3757, 3764, 3774, 3777, 3779, 3798, 3800, 3808, 3816, 3820, 3827,\n",
      "       3830, 3851, 3859, 3887, 3902, 3909, 3918, 3947, 3950, 3954, 3963,\n",
      "       3968, 3977, 3982, 3995, 4005, 4008, 4012, 4027, 4036, 4044, 4065,\n",
      "       4067, 4077, 4086, 4092, 4094, 4095, 4120, 4126, 4135, 4138, 4159,\n",
      "       4161, 4164, 4181, 4194, 4223, 4272, 4275, 4288, 4296, 4297, 4300,\n",
      "       4302, 4308, 4315, 4331, 4351, 4355, 4357, 4363, 4396, 4400, 4406,\n",
      "       4417, 4422, 4425, 4457, 4465, 4474, 4482, 4485, 4509, 4535, 4543,\n",
      "       4565, 4569, 4577, 4636, 4650, 4692, 4701, 4721, 4747, 4772, 4790,\n",
      "       4807, 4825, 4826, 4843, 4849, 4883, 4900, 4908, 4913, 4959, 4975,\n",
      "       4977, 4994, 7311], dtype=int64),)\n"
     ]
    }
   ],
   "source": [
    "# Position of the Outlier\n",
    "print(np.where(df['Height']>73))"
   ]
  },
  {
   "cell_type": "code",
   "execution_count": 65,
   "id": "3d28baa6",
   "metadata": {},
   "outputs": [
    {
     "ename": "AttributeError",
     "evalue": "module 'matplotlib.pyplot' has no attribute 'xlable'",
     "output_type": "error",
     "traceback": [
      "\u001b[1;31m---------------------------------------------------------------------------\u001b[0m",
      "\u001b[1;31mAttributeError\u001b[0m                            Traceback (most recent call last)",
      "\u001b[1;32m~\\AppData\\Local\\Temp/ipykernel_11004/2973819381.py\u001b[0m in \u001b[0;36m<module>\u001b[1;34m\u001b[0m\n\u001b[0;32m      1\u001b[0m \u001b[0mplt\u001b[0m\u001b[1;33m.\u001b[0m\u001b[0mhist\u001b[0m\u001b[1;33m(\u001b[0m\u001b[0mdf\u001b[0m\u001b[1;33m.\u001b[0m\u001b[0mHeight\u001b[0m\u001b[1;33m,\u001b[0m \u001b[0mbins\u001b[0m\u001b[1;33m=\u001b[0m\u001b[1;36m20\u001b[0m\u001b[1;33m,\u001b[0m \u001b[0mrwidth\u001b[0m\u001b[1;33m=\u001b[0m\u001b[1;36m0.8\u001b[0m\u001b[1;33m)\u001b[0m\u001b[1;33m\u001b[0m\u001b[1;33m\u001b[0m\u001b[0m\n\u001b[1;32m----> 2\u001b[1;33m \u001b[0mplt\u001b[0m\u001b[1;33m.\u001b[0m\u001b[0mxlable\u001b[0m\u001b[1;33m(\u001b[0m\u001b[1;34m'Height (inches)'\u001b[0m\u001b[1;33m)\u001b[0m\u001b[1;33m\u001b[0m\u001b[1;33m\u001b[0m\u001b[0m\n\u001b[0m\u001b[0;32m      3\u001b[0m \u001b[0mplt\u001b[0m\u001b[1;33m.\u001b[0m\u001b[0mylable\u001b[0m\u001b[1;33m(\u001b[0m\u001b[1;34m'count'\u001b[0m\u001b[1;33m)\u001b[0m\u001b[1;33m\u001b[0m\u001b[1;33m\u001b[0m\u001b[0m\n\u001b[0;32m      4\u001b[0m \u001b[0mplt\u001b[0m\u001b[1;33m.\u001b[0m\u001b[0mshow\u001b[0m\u001b[1;33m(\u001b[0m\u001b[1;33m)\u001b[0m\u001b[1;33m\u001b[0m\u001b[1;33m\u001b[0m\u001b[0m\n",
      "\u001b[1;31mAttributeError\u001b[0m: module 'matplotlib.pyplot' has no attribute 'xlable'"
     ]
    },
    {
     "data": {
      "image/png": "[encoded data removed]",
      "text/plain": [
       "<Figure size 1440x720 with 1 Axes>"
      ]
     },
     "metadata": {
      "needs_background": "light"
     },
     "output_type": "display_data"
    }
   ],
   "source": [
    "plt.hist(df.Height, bins=20, rwidth=0.8)\n",
    "plt.xlable('Height (inches)')\n",
    "plt.ylable('count')\n",
    "plt.show()"
   ]
  },
  {
   "cell_type": "code",
   "execution_count": null,
   "id": "0a65a9bf",
   "metadata": {},
   "outputs": [],
   "source": []
  }
 ],
 "metadata": {
  "kernelspec": {
   "display_name": "Python 3 (ipykernel)",
   "language": "python",
   "name": "python3"
  },
  "language_info": {
   "codemirror_mode": {
    "name": "ipython",
    "version": 3
   },
   "file_extension": ".py",
   "mimetype": "text/x-python",
   "name": "python",
   "nbconvert_exporter": "python",
   "pygments_lexer": "ipython3",
   "version": "3.9.7"
  }
 },
 "nbformat": 4,
 "nbformat_minor": 5
}
