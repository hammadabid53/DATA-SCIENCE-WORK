{
 "cells": [
  {
   "cell_type": "code",
   "execution_count": null,
   "id": "34f5ebb4",
   "metadata": {},
   "outputs": [],
   "source": [
    "import pandas as pd\n",
    "import matplotlib.pyplot as plt\n",
    "import seaborn as sns\n",
    "import numpy as np\n",
    "%matplotlib inline\n",
    "sns.set_style('darkgrid')"
   ]
  },
  {
   "cell_type": "code",
   "execution_count": null,
   "id": "614fcd97",
   "metadata": {},
   "outputs": [],
   "source": [
    "#Reading csv_file\n",
    "df = pd.read_csv(\"Pakistan Available Job Dec 19 - Mar-21.csv\")"
   ]
  },
  {
   "cell_type": "code",
   "execution_count": null,
   "id": "9681d3a7",
   "metadata": {},
   "outputs": [],
   "source": [
    "df.head()"
   ]
  },
  {
   "cell_type": "code",
   "execution_count": null,
   "id": "e48d26df",
   "metadata": {},
   "outputs": [],
   "source": [
    "df.tail()"
   ]
  },
  {
   "cell_type": "code",
   "execution_count": null,
   "id": "a961999a",
   "metadata": {},
   "outputs": [],
   "source": [
    "df.shape"
   ]
  },
  {
   "cell_type": "code",
   "execution_count": null,
   "id": "25729b84",
   "metadata": {},
   "outputs": [],
   "source": [
    "df.info()"
   ]
  },
  {
   "cell_type": "code",
   "execution_count": null,
   "id": "7d79ad39",
   "metadata": {},
   "outputs": [],
   "source": [
    "df.isna().sum()"
   ]
  },
  {
   "cell_type": "code",
   "execution_count": null,
   "id": "dd8ef8d7",
   "metadata": {},
   "outputs": [],
   "source": [
    "df.columns"
   ]
  },
  {
   "cell_type": "code",
   "execution_count": null,
   "id": "b9d490ce",
   "metadata": {},
   "outputs": [],
   "source": [
    "df['label'].fillna(method='ffill',inplace = True)"
   ]
  },
  {
   "cell_type": "code",
   "execution_count": null,
   "id": "73cb4aa5",
   "metadata": {},
   "outputs": [],
   "source": [
    "df['Company Name'].fillna(method='ffill',inplace = True)"
   ]
  },
  {
   "cell_type": "code",
   "execution_count": null,
   "id": "c8c9fad2",
   "metadata": {},
   "outputs": [],
   "source": [
    "df.isna().sum()"
   ]
  },
  {
   "cell_type": "code",
   "execution_count": null,
   "id": "0b2df854",
   "metadata": {},
   "outputs": [],
   "source": [
    "df.head()"
   ]
  },
  {
   "cell_type": "markdown",
   "id": "4227d6be",
   "metadata": {},
   "source": [
    "# Exploratory Data Analysis\n",
    "Exploratory data analysis (EDA) is used to analyze and investigate data sets and summarize their main characteristics, often employing data visualization methods."
   ]
  },
  {
   "cell_type": "code",
   "execution_count": null,
   "id": "d5436115",
   "metadata": {},
   "outputs": [],
   "source": [
    "fig, axes = plt.subplots(figsize=(8, 4))\n",
    "df['label'].value_counts(normalize=True).plot.bar(width=0.3, color=('red','green'))\n",
    "\n",
    "plt.tight_layout()\n",
    "plt.show()"
   ]
  },
  {
   "cell_type": "code",
   "execution_count": null,
   "id": "f0ebd365",
   "metadata": {},
   "outputs": [],
   "source": [
    "cols = df[['Job Name', 'label', 'Company Name', 'Job Type', 'Experience Required',\n",
    "       'Department', 'JD', 'City', 'Date Posted']]\n",
    "cols.head()"
   ]
  },
  {
   "cell_type": "code",
   "execution_count": null,
   "id": "abfeb6c8",
   "metadata": {},
   "outputs": [],
   "source": [
    "df = df.rename(columns={\n",
    "    'Job Name': 'Job_Name',\n",
    "    'Company Name': 'Company_Name',\n",
    "    'Job Type': 'Job_Type',\n",
    "    'Experience Required': 'Experience_Required',\n",
    "    'Date Posted': 'Date_Posted'\n",
    "})\n",
    "df.head()"
   ]
  },
  {
   "cell_type": "code",
   "execution_count": null,
   "id": "b7e59aa8",
   "metadata": {},
   "outputs": [],
   "source": [
    "df['Job_Name'].count()"
   ]
  },
  {
   "cell_type": "code",
   "execution_count": null,
   "id": "12c60606",
   "metadata": {},
   "outputs": [],
   "source": [
    "a = df['Job_Name'].unique().tolist()[0:10]\n",
    "b = a[0].split(',')\n",
    "b"
   ]
  },
  {
   "cell_type": "code",
   "execution_count": null,
   "id": "5014480a",
   "metadata": {},
   "outputs": [],
   "source": [
    "f, ax = plt.subplots(figsize=(7, 3))\n",
    "sns.countplot(y=b, data=df, color='c')"
   ]
  },
  {
   "cell_type": "code",
   "execution_count": null,
   "id": "814007d5",
   "metadata": {},
   "outputs": [],
   "source": [
    "top_com = df['Company_Name'].unique()\n",
    "top_com[0:5]"
   ]
  },
  {
   "cell_type": "code",
   "execution_count": null,
   "id": "344f416e",
   "metadata": {},
   "outputs": [],
   "source": [
    "data_scientis_jobs = df[ df['Job_Name'].str.contains('Data Scientist')]\n",
    "data_scientis_jobs"
   ]
  },
  {
   "cell_type": "code",
   "execution_count": null,
   "id": "db2d7228",
   "metadata": {},
   "outputs": [],
   "source": [
    "data_scientis_jobs['Job_Name'].count()"
   ]
  },
  {
   "cell_type": "code",
   "execution_count": null,
   "id": "89476966",
   "metadata": {},
   "outputs": [],
   "source": [
    "e = data_scientis_jobs['Experience_Required'].unique()\n",
    "sns.countplot(x = e, data = df)\n",
    "plt.xlabel('Experience')"
   ]
  },
  {
   "cell_type": "code",
   "execution_count": null,
   "id": "8044704d",
   "metadata": {},
   "outputs": [],
   "source": [
    "c = data_scientis_jobs['City'].unique()\n",
    "sns.countplot(x = c, data = df)\n",
    "plt.xlabel('City')"
   ]
  },
  {
   "cell_type": "markdown",
   "id": "8cf6d9ec",
   "metadata": {},
   "source": [
    "# DATA ANALYSIS OF PAKISTAN DATA"
   ]
  },
  {
   "cell_type": "code",
   "execution_count": null,
   "id": "55bedd37",
   "metadata": {},
   "outputs": [],
   "source": [
    "pak_df = df['Job_Type'].value_counts()\n",
    "pak_df"
   ]
  },
  {
   "cell_type": "code",
   "execution_count": null,
   "id": "b05ebeff",
   "metadata": {},
   "outputs": [],
   "source": [
    "plt.figure(figsize=(10,10))\n",
    "res=sns.barplot(x=pak_df, y=pak_df.index)\n",
    "res.set_yticklabels(res.get_ymajorticklabels(), fontsize = 16, color='black')\n",
    "plt.xlabel('Value Counts of Job Type',fontsize = 16, color='black')\n",
    "plt.ylabel('Job Type Names',fontsize = 16, color='black')\n",
    "plt.title('Job Types in Pakistan',fontsize = 16, color='black')\n",
    "plt.show()"
   ]
  },
  {
   "cell_type": "code",
   "execution_count": null,
   "id": "3e785634",
   "metadata": {},
   "outputs": [],
   "source": [
    "#How many years of experienced required for job\n",
    "pak_df = df['Experience_Required'].value_counts()\n",
    "pak_df"
   ]
  },
  {
   "cell_type": "code",
   "execution_count": null,
   "id": "8100ee7b",
   "metadata": {},
   "outputs": [],
   "source": [
    "plt.figure(figsize=(10,10))\n",
    "res=sns.barplot(x=pak_df, y=pak_df.index)\n",
    "res.set_yticklabels(res.get_ymajorticklabels(), fontsize = 16, color='black')\n",
    "plt.xlabel('Value Counts of Experienced Required for Job', fontsize = 16, color='black')\n",
    "plt.ylabel('Names of Experienced Required', fontsize = 16, color='black')\n",
    "plt.title('Experienced Required for Job in Pakistan', fontsize = 20, color='black')\n",
    "plt.show()"
   ]
  },
  {
   "cell_type": "code",
   "execution_count": null,
   "id": "44d45ec5",
   "metadata": {},
   "outputs": [],
   "source": [
    "#How many Jobs are available in each departments.\n",
    "pak_df_Dept = df['Department'].value_counts().head(15)\n",
    "pak_df_Dept"
   ]
  },
  {
   "cell_type": "code",
   "execution_count": null,
   "id": "955534b6",
   "metadata": {},
   "outputs": [],
   "source": [
    "plt.figure(figsize=(10,8))\n",
    "res=sns.barplot(x=pak_df_Dept, y=pak_df_Dept.index)\n",
    "res.set_yticklabels(res.get_ymajorticklabels(), fontsize = 16, color='black')\n",
    "plt.xlabel('Value Counts of Departments of Job', fontsize = 16, color='black')\n",
    "plt.ylabel('Names of Departments', fontsize = 16, color='black')\n",
    "plt.title('Departments of Job in Pakistan', fontsize = 20, color='black')\n",
    "plt.show()"
   ]
  },
  {
   "cell_type": "code",
   "execution_count": null,
   "id": "6514b275",
   "metadata": {},
   "outputs": [],
   "source": [
    "#How many Jobs are available in each city.\n",
    "pak_df_City = df['City'].value_counts().head(15)\n",
    "pak_df_City"
   ]
  },
  {
   "cell_type": "code",
   "execution_count": null,
   "id": "9b64f730",
   "metadata": {},
   "outputs": [],
   "source": [
    "plt.figure(figsize=(10,8))\n",
    "res=sns.barplot(x=pak_df_City, y=pak_df_City.index)\n",
    "res.set_yticklabels(res.get_ymajorticklabels(), fontsize = 16, color='black')\n",
    "plt.xlabel('Value Counts of City of Job', fontsize = 16, color='black')\n",
    "plt.ylabel('Names of City', fontsize = 16, color='black')\n",
    "plt.title('City of Job in Pakistan', fontsize = 20, color='black')\n",
    "plt.show()"
   ]
  },
  {
   "cell_type": "code",
   "execution_count": null,
   "id": "323c367a",
   "metadata": {},
   "outputs": [],
   "source": [
    "#How many Jobs are Posted in each dates.\n",
    "pak_df_Date = df['Date_Posted'].value_counts().head(10)\n",
    "pak_df_Date"
   ]
  },
  {
   "cell_type": "code",
   "execution_count": null,
   "id": "07827a03",
   "metadata": {},
   "outputs": [],
   "source": [
    "plt.figure(figsize=(10,8))\n",
    "res=sns.barplot(x=pak_df_Date, y=pak_df_Date.index)\n",
    "res.set_yticklabels(res.get_ymajorticklabels(), fontsize = 16)\n",
    "plt.xlabel('Value Counts of Dates of Job', fontsize = 20)\n",
    "plt.ylabel('Dates', fontsize = 20)\n",
    "plt.title('Dates of Job Posted in Pakistan', fontsize = 25)\n",
    "plt.show()"
   ]
  },
  {
   "cell_type": "markdown",
   "id": "ee2ecb8c",
   "metadata": {},
   "source": [
    "# converting string data to numeric using one hot Encoding"
   ]
  },
  {
   "cell_type": "code",
   "execution_count": null,
   "id": "1fc9a7dc",
   "metadata": {},
   "outputs": [],
   "source": [
    "job = pd.get_dummies(df, drop_first= True)\n",
    "job.head()"
   ]
  },
  {
   "cell_type": "code",
   "execution_count": null,
   "id": "0ae95f03",
   "metadata": {},
   "outputs": [],
   "source": [
    "jobpk = pd.concat([df, job ], axis = 1)\n",
    "jobpk.head()"
   ]
  },
  {
   "cell_type": "code",
   "execution_count": null,
   "id": "88f464b1",
   "metadata": {},
   "outputs": [],
   "source": [
    "categorical_features = ['Job_Name', 'Company_Name', 'Job_Type', 'Experience_Required', 'Department', 'JD', 'City', 'Date_Posted']"
   ]
  },
  {
   "cell_type": "code",
   "execution_count": null,
   "id": "b1109966",
   "metadata": {},
   "outputs": [],
   "source": [
    "data = jobpk.drop(columns=categorical_features, axis=1)\n",
    "data.head()"
   ]
  },
  {
   "cell_type": "code",
   "execution_count": null,
   "id": "f1beea2f",
   "metadata": {},
   "outputs": [],
   "source": [
    "corr = data.corr()['label'].sort_values(ascending=False).to_frame()\n",
    "plt.figure(figsize=(2,8))\n",
    "sns.heatmap(corr, cmap='Blues', cbar=False, annot=True)\n",
    "plt.show()"
   ]
  },
  {
   "cell_type": "code",
   "execution_count": null,
   "id": "bf83a245",
   "metadata": {},
   "outputs": [],
   "source": [
    "Y = data['label']\n",
    "X = data.drop('label', axis=1)"
   ]
  },
  {
   "cell_type": "code",
   "execution_count": null,
   "id": "36865de6",
   "metadata": {},
   "outputs": [],
   "source": [
    "#LogisticRegression\n",
    "from sklearn.linear_model import LogisticRegression\n",
    "from sklearn import metrics\n",
    "X_train, X_test, y_train, y_test = train_test_split(X, y, test_size=0.3, random_state=0)\n",
    "logreg = LogisticRegression()\n",
    "logreg.fit(X_train, y_train)"
   ]
  },
  {
   "cell_type": "code",
   "execution_count": null,
   "id": "2c23e68e",
   "metadata": {},
   "outputs": [],
   "source": [
    "Logreg_predict = logreg.predict(testX)\n",
    "print(\"Prediction Using Logistic Regression on test set: {}\".format(logreg_predict))"
   ]
  },
  {
   "cell_type": "code",
   "execution_count": null,
   "id": "12de2ed1",
   "metadata": {},
   "outputs": [],
   "source": [
    "y_pred = logreg.predict(X_test)\n",
    "print('Accuracy of logistic regression classifier on test set: {:.2f}'.format(logreg.score(X_test, y_test)))"
   ]
  },
  {
   "cell_type": "code",
   "execution_count": null,
   "id": "b876cd9a",
   "metadata": {},
   "outputs": [],
   "source": [
    "y_pred = kc.predict(X_test)\n",
    "print('Accuracy of KNeighbors classifier on train set: {:.2f}'.format(kc.score(X_train, y_train)))"
   ]
  },
  {
   "cell_type": "code",
   "execution_count": null,
   "id": "e3a27765",
   "metadata": {},
   "outputs": [],
   "source": [
    "from sklearn.neighbors import KNeighborsClassifier\n",
    "kc = KNeighborsClassifier()\n",
    "kc.fit(x_train,y_train)"
   ]
  },
  {
   "cell_type": "code",
   "execution_count": null,
   "id": "409525dd",
   "metadata": {},
   "outputs": [],
   "source": [
    "y_pred = kc.predict(X_test)\n",
    "print('Accuracy of KNeighbors classifier on test set: {:.2f}'.format(kc.score(X_test, y_test)))"
   ]
  },
  {
   "cell_type": "code",
   "execution_count": null,
   "id": "12f44ff2",
   "metadata": {},
   "outputs": [],
   "source": [
    "y_pred = kc.predict(X_test)\n",
    "print('Accuracy of KNeighbors classifier on train set: {:.2f}'.format(kc.score(X_train, y_train)))"
   ]
  },
  {
   "cell_type": "code",
   "execution_count": null,
   "id": "8a9aa9f2",
   "metadata": {},
   "outputs": [],
   "source": [
    "from sklearn.metrics import classification_report\n",
    "print(classification_report(y_test, y_pred))"
   ]
  }
 ],
 "metadata": {
  "kernelspec": {
   "display_name": "Python 3 (ipykernel)",
   "language": "python",
   "name": "python3"
  },
  "language_info": {
   "codemirror_mode": {
    "name": "ipython",
    "version": 3
   },
   "file_extension": ".py",
   "mimetype": "text/x-python",
   "name": "python",
   "nbconvert_exporter": "python",
   "pygments_lexer": "ipython3",
   "version": "3.9.7"
  }
 },
 "nbformat": 4,
 "nbformat_minor": 5
}
